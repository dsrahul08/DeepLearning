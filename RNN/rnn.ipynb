{
 "cells": [
  {
   "cell_type": "markdown",
   "metadata": {
    "colab_type": "text",
    "id": "xpAuMVCwfWs8"
   },
   "source": [
    "# Recurrent Neural Network"
   ]
  },
  {
   "cell_type": "markdown",
   "metadata": {
    "colab_type": "text",
    "id": "nxJfRe4bfYVA"
   },
   "source": [
    "## Part 1 - Data Preprocessing"
   ]
  },
  {
   "cell_type": "markdown",
   "metadata": {
    "colab_type": "text",
    "id": "ir9zwETrfbrp"
   },
   "source": [
    "### Importing the libraries"
   ]
  },
  {
   "cell_type": "code",
   "execution_count": 24,
   "metadata": {
    "colab": {},
    "colab_type": "code",
    "id": "ZT1f24vHffuf"
   },
   "outputs": [],
   "source": [
    "import numpy as np\n",
    "import matplotlib.pyplot as plt\n",
    "import pandas as pd"
   ]
  },
  {
   "cell_type": "code",
   "execution_count": 25,
   "metadata": {},
   "outputs": [],
   "source": [
    "import os\n",
    "os.chdir(r'C:\\Users\\Rahul\\Desktop\\RNN')"
   ]
  },
  {
   "cell_type": "markdown",
   "metadata": {
    "colab_type": "text",
    "id": "nQ47JAxrgmaL"
   },
   "source": [
    "### Importing the training set"
   ]
  },
  {
   "cell_type": "code",
   "execution_count": 26,
   "metadata": {
    "colab": {},
    "colab_type": "code",
    "id": "1xiv3pJOgqY3"
   },
   "outputs": [],
   "source": [
    "dataset_train = pd.read_csv('Google_Stock_Price_Train.csv')\n",
    "training_set = dataset_train.iloc[:, 1:2].values"
   ]
  },
  {
   "cell_type": "code",
   "execution_count": 27,
   "metadata": {},
   "outputs": [
    {
     "data": {
      "text/html": [
       "<div>\n",
       "<style scoped>\n",
       "    .dataframe tbody tr th:only-of-type {\n",
       "        vertical-align: middle;\n",
       "    }\n",
       "\n",
       "    .dataframe tbody tr th {\n",
       "        vertical-align: top;\n",
       "    }\n",
       "\n",
       "    .dataframe thead th {\n",
       "        text-align: right;\n",
       "    }\n",
       "</style>\n",
       "<table border=\"1\" class=\"dataframe\">\n",
       "  <thead>\n",
       "    <tr style=\"text-align: right;\">\n",
       "      <th></th>\n",
       "      <th>Date</th>\n",
       "      <th>Open</th>\n",
       "      <th>High</th>\n",
       "      <th>Low</th>\n",
       "      <th>Close</th>\n",
       "      <th>Volume</th>\n",
       "    </tr>\n",
       "  </thead>\n",
       "  <tbody>\n",
       "    <tr>\n",
       "      <th>0</th>\n",
       "      <td>1/3/2012</td>\n",
       "      <td>325.25</td>\n",
       "      <td>332.83</td>\n",
       "      <td>324.97</td>\n",
       "      <td>663.59</td>\n",
       "      <td>7,380,500</td>\n",
       "    </tr>\n",
       "    <tr>\n",
       "      <th>1</th>\n",
       "      <td>1/4/2012</td>\n",
       "      <td>331.27</td>\n",
       "      <td>333.87</td>\n",
       "      <td>329.08</td>\n",
       "      <td>666.45</td>\n",
       "      <td>5,749,400</td>\n",
       "    </tr>\n",
       "    <tr>\n",
       "      <th>2</th>\n",
       "      <td>1/5/2012</td>\n",
       "      <td>329.83</td>\n",
       "      <td>330.75</td>\n",
       "      <td>326.89</td>\n",
       "      <td>657.21</td>\n",
       "      <td>6,590,300</td>\n",
       "    </tr>\n",
       "    <tr>\n",
       "      <th>3</th>\n",
       "      <td>1/6/2012</td>\n",
       "      <td>328.34</td>\n",
       "      <td>328.77</td>\n",
       "      <td>323.68</td>\n",
       "      <td>648.24</td>\n",
       "      <td>5,405,900</td>\n",
       "    </tr>\n",
       "    <tr>\n",
       "      <th>4</th>\n",
       "      <td>1/9/2012</td>\n",
       "      <td>322.04</td>\n",
       "      <td>322.29</td>\n",
       "      <td>309.46</td>\n",
       "      <td>620.76</td>\n",
       "      <td>11,688,800</td>\n",
       "    </tr>\n",
       "    <tr>\n",
       "      <th>...</th>\n",
       "      <td>...</td>\n",
       "      <td>...</td>\n",
       "      <td>...</td>\n",
       "      <td>...</td>\n",
       "      <td>...</td>\n",
       "      <td>...</td>\n",
       "    </tr>\n",
       "    <tr>\n",
       "      <th>1253</th>\n",
       "      <td>12/23/2016</td>\n",
       "      <td>790.90</td>\n",
       "      <td>792.74</td>\n",
       "      <td>787.28</td>\n",
       "      <td>789.91</td>\n",
       "      <td>623,400</td>\n",
       "    </tr>\n",
       "    <tr>\n",
       "      <th>1254</th>\n",
       "      <td>12/27/2016</td>\n",
       "      <td>790.68</td>\n",
       "      <td>797.86</td>\n",
       "      <td>787.66</td>\n",
       "      <td>791.55</td>\n",
       "      <td>789,100</td>\n",
       "    </tr>\n",
       "    <tr>\n",
       "      <th>1255</th>\n",
       "      <td>12/28/2016</td>\n",
       "      <td>793.70</td>\n",
       "      <td>794.23</td>\n",
       "      <td>783.20</td>\n",
       "      <td>785.05</td>\n",
       "      <td>1,153,800</td>\n",
       "    </tr>\n",
       "    <tr>\n",
       "      <th>1256</th>\n",
       "      <td>12/29/2016</td>\n",
       "      <td>783.33</td>\n",
       "      <td>785.93</td>\n",
       "      <td>778.92</td>\n",
       "      <td>782.79</td>\n",
       "      <td>744,300</td>\n",
       "    </tr>\n",
       "    <tr>\n",
       "      <th>1257</th>\n",
       "      <td>12/30/2016</td>\n",
       "      <td>782.75</td>\n",
       "      <td>782.78</td>\n",
       "      <td>770.41</td>\n",
       "      <td>771.82</td>\n",
       "      <td>1,770,000</td>\n",
       "    </tr>\n",
       "  </tbody>\n",
       "</table>\n",
       "<p>1258 rows × 6 columns</p>\n",
       "</div>"
      ],
      "text/plain": [
       "            Date    Open    High     Low   Close      Volume\n",
       "0       1/3/2012  325.25  332.83  324.97  663.59   7,380,500\n",
       "1       1/4/2012  331.27  333.87  329.08  666.45   5,749,400\n",
       "2       1/5/2012  329.83  330.75  326.89  657.21   6,590,300\n",
       "3       1/6/2012  328.34  328.77  323.68  648.24   5,405,900\n",
       "4       1/9/2012  322.04  322.29  309.46  620.76  11,688,800\n",
       "...          ...     ...     ...     ...     ...         ...\n",
       "1253  12/23/2016  790.90  792.74  787.28  789.91     623,400\n",
       "1254  12/27/2016  790.68  797.86  787.66  791.55     789,100\n",
       "1255  12/28/2016  793.70  794.23  783.20  785.05   1,153,800\n",
       "1256  12/29/2016  783.33  785.93  778.92  782.79     744,300\n",
       "1257  12/30/2016  782.75  782.78  770.41  771.82   1,770,000\n",
       "\n",
       "[1258 rows x 6 columns]"
      ]
     },
     "execution_count": 27,
     "metadata": {},
     "output_type": "execute_result"
    }
   ],
   "source": [
    "dataset_train"
   ]
  },
  {
   "cell_type": "markdown",
   "metadata": {
    "colab_type": "text",
    "id": "HT8_2UJegtG5"
   },
   "source": [
    "### Feature Scaling"
   ]
  },
  {
   "cell_type": "code",
   "execution_count": 28,
   "metadata": {
    "colab": {},
    "colab_type": "code",
    "id": "OTrF2kR7gx9x"
   },
   "outputs": [],
   "source": [
    "from sklearn.preprocessing import MinMaxScaler\n",
    "sc = MinMaxScaler(feature_range = (0, 1))\n",
    "training_set_scaled = sc.fit_transform(training_set)"
   ]
  },
  {
   "cell_type": "markdown",
   "metadata": {
    "colab_type": "text",
    "id": "JyYgYocqhNUg"
   },
   "source": [
    "### Creating a data structure with 60 timesteps and 1 output"
   ]
  },
  {
   "cell_type": "code",
   "execution_count": 29,
   "metadata": {
    "colab": {},
    "colab_type": "code",
    "id": "iofU21B0i6ST"
   },
   "outputs": [],
   "source": [
    "X_train = []\n",
    "y_train = []\n",
    "for i in range(60, 1258):\n",
    "    X_train.append(training_set_scaled[i-60:i, 0])\n",
    "    y_train.append(training_set_scaled[i, 0])\n",
    "X_train, y_train = np.array(X_train), np.array(y_train)"
   ]
  },
  {
   "cell_type": "markdown",
   "metadata": {
    "colab_type": "text",
    "id": "D8yaN7Zvi95l"
   },
   "source": [
    "### Reshaping"
   ]
  },
  {
   "cell_type": "code",
   "execution_count": 30,
   "metadata": {
    "colab": {},
    "colab_type": "code",
    "id": "FOXqJHmNjBkz"
   },
   "outputs": [],
   "source": [
    "X_train = np.reshape(X_train, (X_train.shape[0], X_train.shape[1], 1))"
   ]
  },
  {
   "cell_type": "markdown",
   "metadata": {
    "colab_type": "text",
    "id": "ZRRSOJeVjEWV"
   },
   "source": [
    "## Part 2 - Building and Training the RNN"
   ]
  },
  {
   "cell_type": "markdown",
   "metadata": {
    "colab_type": "text",
    "id": "k4XV88JMjHXG"
   },
   "source": [
    "### Importing the Keras libraries and packages"
   ]
  },
  {
   "cell_type": "code",
   "execution_count": 31,
   "metadata": {
    "colab": {
     "base_uri": "https://localhost:8080/",
     "height": 34
    },
    "colab_type": "code",
    "id": "9JRnqsxEjKsD",
    "outputId": "b3e23e78-18aa-4396-c923-c877b8de60e4"
   },
   "outputs": [],
   "source": [
    "from tensorflow.keras.models import Sequential\n",
    "from  tensorflow.keras.layers import Dense\n",
    "from  tensorflow.keras.layers import LSTM\n",
    "from  tensorflow.keras.layers import Dropout"
   ]
  },
  {
   "cell_type": "markdown",
   "metadata": {
    "colab_type": "text",
    "id": "FEIE-1s9jNzC"
   },
   "source": [
    "### Initialising the RNN"
   ]
  },
  {
   "cell_type": "code",
   "execution_count": 32,
   "metadata": {
    "colab": {},
    "colab_type": "code",
    "id": "1338dJ0UjRKH"
   },
   "outputs": [],
   "source": [
    "regressor = Sequential()"
   ]
  },
  {
   "cell_type": "markdown",
   "metadata": {
    "colab_type": "text",
    "id": "62eg1OPGjT8z"
   },
   "source": [
    "### Adding the first LSTM layer and some Dropout regularisation"
   ]
  },
  {
   "cell_type": "code",
   "execution_count": 33,
   "metadata": {
    "colab": {},
    "colab_type": "code",
    "id": "2hIinyXUjbVU"
   },
   "outputs": [],
   "source": [
    "regressor.add(LSTM(units = 50, return_sequences = True, input_shape = (X_train.shape[1], 1)))\n",
    "regressor.add(Dropout(0.2))"
   ]
  },
  {
   "cell_type": "markdown",
   "metadata": {
    "colab_type": "text",
    "id": "3XBIYLyOjlMx"
   },
   "source": [
    "### Adding a second LSTM layer and some Dropout regularisation"
   ]
  },
  {
   "cell_type": "code",
   "execution_count": 34,
   "metadata": {
    "colab": {},
    "colab_type": "code",
    "id": "UG7nrVaSjuZ2"
   },
   "outputs": [],
   "source": [
    "regressor.add(LSTM(units = 50, return_sequences = True))\n",
    "regressor.add(Dropout(0.2))"
   ]
  },
  {
   "cell_type": "markdown",
   "metadata": {
    "colab_type": "text",
    "id": "Ey3fHVnGj1cu"
   },
   "source": [
    "### Adding a third LSTM layer and some Dropout regularisation"
   ]
  },
  {
   "cell_type": "code",
   "execution_count": 35,
   "metadata": {
    "colab": {},
    "colab_type": "code",
    "id": "PuNi6PgFj7jO"
   },
   "outputs": [],
   "source": [
    "regressor.add(LSTM(units = 50, return_sequences = True))\n",
    "regressor.add(Dropout(0.2))"
   ]
  },
  {
   "cell_type": "markdown",
   "metadata": {
    "colab_type": "text",
    "id": "SYTrtfTmj933"
   },
   "source": [
    "### Adding a fourth LSTM layer and some Dropout regularisation"
   ]
  },
  {
   "cell_type": "code",
   "execution_count": 36,
   "metadata": {
    "colab": {},
    "colab_type": "code",
    "id": "Jp4Ty8fRkBYV"
   },
   "outputs": [],
   "source": [
    "regressor.add(LSTM(units = 50))\n",
    "regressor.add(Dropout(0.2))"
   ]
  },
  {
   "cell_type": "markdown",
   "metadata": {
    "colab_type": "text",
    "id": "9ABI6rOIkHhk"
   },
   "source": [
    "### Adding the output layer"
   ]
  },
  {
   "cell_type": "code",
   "execution_count": 37,
   "metadata": {
    "colab": {},
    "colab_type": "code",
    "id": "aM6R1z4WkME8"
   },
   "outputs": [],
   "source": [
    "regressor.add(Dense(units = 1))"
   ]
  },
  {
   "cell_type": "markdown",
   "metadata": {
    "colab_type": "text",
    "id": "zLx4K7uUkPSh"
   },
   "source": [
    "### Compiling the RNN"
   ]
  },
  {
   "cell_type": "code",
   "execution_count": 38,
   "metadata": {
    "colab": {},
    "colab_type": "code",
    "id": "XTrhVN-tkbko"
   },
   "outputs": [],
   "source": [
    "regressor.compile(optimizer = 'adam', loss = 'mean_squared_error')"
   ]
  },
  {
   "cell_type": "markdown",
   "metadata": {
    "colab_type": "text",
    "id": "-mPhwKGkkebi"
   },
   "source": [
    "### Fitting the RNN to the Training set"
   ]
  },
  {
   "cell_type": "code",
   "execution_count": 39,
   "metadata": {
    "colab": {
     "base_uri": "https://localhost:8080/",
     "height": 1000
    },
    "colab_type": "code",
    "id": "I06Nkrz5kkb-",
    "outputId": "dc9d947a-4d5c-4dbc-ed45-31bf44b98dfb"
   },
   "outputs": [
    {
     "name": "stdout",
     "output_type": "stream",
     "text": [
      "Epoch 1/100\n",
      "38/38 [==============================] - 7s 42ms/step - loss: 0.0382\n",
      "Epoch 2/100\n",
      "38/38 [==============================] - 2s 42ms/step - loss: 0.0061\n",
      "Epoch 3/100\n",
      "38/38 [==============================] - 2s 41ms/step - loss: 0.0056\n",
      "Epoch 4/100\n",
      "38/38 [==============================] - 2s 42ms/step - loss: 0.0055\n",
      "Epoch 5/100\n",
      "38/38 [==============================] - 2s 42ms/step - loss: 0.0048\n",
      "Epoch 6/100\n",
      "38/38 [==============================] - 2s 42ms/step - loss: 0.0051\n",
      "Epoch 7/100\n",
      "38/38 [==============================] - 2s 43ms/step - loss: 0.0050\n",
      "Epoch 8/100\n",
      "38/38 [==============================] - 2s 43ms/step - loss: 0.0045\n",
      "Epoch 9/100\n",
      "38/38 [==============================] - 2s 42ms/step - loss: 0.0039\n",
      "Epoch 10/100\n",
      "38/38 [==============================] - 2s 42ms/step - loss: 0.0040\n",
      "Epoch 11/100\n",
      "38/38 [==============================] - 2s 42ms/step - loss: 0.0041\n",
      "Epoch 12/100\n",
      "38/38 [==============================] - 2s 42ms/step - loss: 0.0037\n",
      "Epoch 13/100\n",
      "38/38 [==============================] - 2s 42ms/step - loss: 0.0039\n",
      "Epoch 14/100\n",
      "38/38 [==============================] - 2s 43ms/step - loss: 0.0045\n",
      "Epoch 15/100\n",
      "38/38 [==============================] - 2s 42ms/step - loss: 0.0036\n",
      "Epoch 16/100\n",
      "38/38 [==============================] - 2s 43ms/step - loss: 0.0042\n",
      "Epoch 17/100\n",
      "38/38 [==============================] - 2s 44ms/step - loss: 0.0041\n",
      "Epoch 18/100\n",
      "38/38 [==============================] - 2s 44ms/step - loss: 0.0039\n",
      "Epoch 19/100\n",
      "38/38 [==============================] - 2s 43ms/step - loss: 0.0033: 1s\n",
      "Epoch 20/100\n",
      "38/38 [==============================] - 2s 43ms/step - loss: 0.0034\n",
      "Epoch 21/100\n",
      "38/38 [==============================] - 2s 43ms/step - loss: 0.0033\n",
      "Epoch 22/100\n",
      "38/38 [==============================] - 2s 43ms/step - loss: 0.0032\n",
      "Epoch 23/100\n",
      "38/38 [==============================] - 2s 43ms/step - loss: 0.0034\n",
      "Epoch 24/100\n",
      "38/38 [==============================] - 2s 43ms/step - loss: 0.0034\n",
      "Epoch 25/100\n",
      "38/38 [==============================] - 2s 43ms/step - loss: 0.0038\n",
      "Epoch 26/100\n",
      "38/38 [==============================] - 2s 43ms/step - loss: 0.0032\n",
      "Epoch 27/100\n",
      "38/38 [==============================] - 2s 43ms/step - loss: 0.0037\n",
      "Epoch 28/100\n",
      "38/38 [==============================] - 2s 44ms/step - loss: 0.0032\n",
      "Epoch 29/100\n",
      "38/38 [==============================] - 2s 43ms/step - loss: 0.0027\n",
      "Epoch 30/100\n",
      "38/38 [==============================] - 2s 44ms/step - loss: 0.0030\n",
      "Epoch 31/100\n",
      "38/38 [==============================] - 2s 43ms/step - loss: 0.0028\n",
      "Epoch 32/100\n",
      "38/38 [==============================] - 2s 44ms/step - loss: 0.0028\n",
      "Epoch 33/100\n",
      "38/38 [==============================] - 2s 44ms/step - loss: 0.0027\n",
      "Epoch 34/100\n",
      "38/38 [==============================] - 2s 45ms/step - loss: 0.0029\n",
      "Epoch 35/100\n",
      "38/38 [==============================] - 2s 46ms/step - loss: 0.0027\n",
      "Epoch 36/100\n",
      "38/38 [==============================] - 2s 46ms/step - loss: 0.0030\n",
      "Epoch 37/100\n",
      "38/38 [==============================] - 2s 46ms/step - loss: 0.0027\n",
      "Epoch 38/100\n",
      "38/38 [==============================] - 2s 46ms/step - loss: 0.0026\n",
      "Epoch 39/100\n",
      "38/38 [==============================] - 2s 46ms/step - loss: 0.0025\n",
      "Epoch 40/100\n",
      "38/38 [==============================] - 2s 46ms/step - loss: 0.0026: 0s - loss: \n",
      "Epoch 41/100\n",
      "38/38 [==============================] - 2s 46ms/step - loss: 0.0025\n",
      "Epoch 42/100\n",
      "38/38 [==============================] - 2s 46ms/step - loss: 0.0029\n",
      "Epoch 43/100\n",
      "38/38 [==============================] - 2s 46ms/step - loss: 0.0025\n",
      "Epoch 44/100\n",
      "38/38 [==============================] - 2s 46ms/step - loss: 0.0024\n",
      "Epoch 45/100\n",
      "38/38 [==============================] - 2s 46ms/step - loss: 0.0023: 0s - loss: 0.0\n",
      "Epoch 46/100\n",
      "38/38 [==============================] - 2s 46ms/step - loss: 0.0027\n",
      "Epoch 47/100\n",
      "38/38 [==============================] - 2s 46ms/step - loss: 0.0021\n",
      "Epoch 48/100\n",
      "38/38 [==============================] - 2s 46ms/step - loss: 0.0024\n",
      "Epoch 49/100\n",
      "38/38 [==============================] - 2s 46ms/step - loss: 0.0024\n",
      "Epoch 50/100\n",
      "38/38 [==============================] - 2s 46ms/step - loss: 0.0028\n",
      "Epoch 51/100\n",
      "38/38 [==============================] - 2s 46ms/step - loss: 0.0025\n",
      "Epoch 52/100\n",
      "38/38 [==============================] - 2s 47ms/step - loss: 0.0024\n",
      "Epoch 53/100\n",
      "38/38 [==============================] - 2s 46ms/step - loss: 0.0022\n",
      "Epoch 54/100\n",
      "38/38 [==============================] - 2s 46ms/step - loss: 0.0023\n",
      "Epoch 55/100\n",
      "38/38 [==============================] - 2s 45ms/step - loss: 0.0022\n",
      "Epoch 56/100\n",
      "38/38 [==============================] - 2s 46ms/step - loss: 0.0023\n",
      "Epoch 57/100\n",
      "38/38 [==============================] - 2s 45ms/step - loss: 0.0022: 0s - loss: 0.002\n",
      "Epoch 58/100\n",
      "38/38 [==============================] - 2s 45ms/step - loss: 0.0021\n",
      "Epoch 59/100\n",
      "38/38 [==============================] - 2s 45ms/step - loss: 0.0021\n",
      "Epoch 60/100\n",
      "38/38 [==============================] - 2s 45ms/step - loss: 0.0021: 0s - loss: 0.0\n",
      "Epoch 61/100\n",
      "38/38 [==============================] - 2s 45ms/step - loss: 0.0023\n",
      "Epoch 62/100\n",
      "38/38 [==============================] - 2s 45ms/step - loss: 0.0021\n",
      "Epoch 63/100\n",
      "38/38 [==============================] - 2s 45ms/step - loss: 0.0020\n",
      "Epoch 64/100\n",
      "38/38 [==============================] - 2s 45ms/step - loss: 0.0019\n",
      "Epoch 65/100\n",
      "38/38 [==============================] - 2s 45ms/step - loss: 0.0021\n",
      "Epoch 66/100\n",
      "38/38 [==============================] - 2s 46ms/step - loss: 0.0019\n",
      "Epoch 67/100\n",
      "38/38 [==============================] - 2s 46ms/step - loss: 0.0020\n",
      "Epoch 68/100\n",
      "38/38 [==============================] - 2s 46ms/step - loss: 0.0019\n",
      "Epoch 69/100\n",
      "38/38 [==============================] - 2s 46ms/step - loss: 0.0021: 0s - loss: \n",
      "Epoch 70/100\n",
      "38/38 [==============================] - 2s 47ms/step - loss: 0.0018\n",
      "Epoch 71/100\n",
      "38/38 [==============================] - 2s 47ms/step - loss: 0.0019\n",
      "Epoch 72/100\n",
      "38/38 [==============================] - 2s 47ms/step - loss: 0.0020: 0s - loss:\n",
      "Epoch 73/100\n",
      "38/38 [==============================] - 2s 46ms/step - loss: 0.0018\n",
      "Epoch 74/100\n",
      "38/38 [==============================] - 2s 46ms/step - loss: 0.0018\n",
      "Epoch 75/100\n",
      "38/38 [==============================] - 2s 46ms/step - loss: 0.0018\n",
      "Epoch 76/100\n",
      "38/38 [==============================] - 2s 47ms/step - loss: 0.0017\n",
      "Epoch 77/100\n",
      "38/38 [==============================] - 2s 46ms/step - loss: 0.0017: 1s - loss: 0.001 - ETA: 1s - l - ETA: 0s - loss: 0.00\n",
      "Epoch 78/100\n",
      "38/38 [==============================] - 2s 46ms/step - loss: 0.0019\n",
      "Epoch 79/100\n",
      "38/38 [==============================] - 2s 47ms/step - loss: 0.0018\n",
      "Epoch 80/100\n",
      "38/38 [==============================] - 2s 46ms/step - loss: 0.0018\n",
      "Epoch 81/100\n",
      "38/38 [==============================] - 2s 47ms/step - loss: 0.0016\n",
      "Epoch 82/100\n",
      "38/38 [==============================] - 2s 46ms/step - loss: 0.0016\n",
      "Epoch 83/100\n",
      "38/38 [==============================] - 2s 46ms/step - loss: 0.0016\n",
      "Epoch 84/100\n",
      "38/38 [==============================] - 2s 46ms/step - loss: 0.0016\n",
      "Epoch 85/100\n",
      "38/38 [==============================] - 2s 47ms/step - loss: 0.0016\n",
      "Epoch 86/100\n",
      "38/38 [==============================] - 2s 47ms/step - loss: 0.0016\n",
      "Epoch 87/100\n",
      "38/38 [==============================] - 2s 48ms/step - loss: 0.0016\n",
      "Epoch 88/100\n",
      "38/38 [==============================] - 2s 47ms/step - loss: 0.0017\n",
      "Epoch 89/100\n",
      "38/38 [==============================] - 2s 47ms/step - loss: 0.0016\n",
      "Epoch 90/100\n",
      "38/38 [==============================] - 2s 46ms/step - loss: 0.0015\n",
      "Epoch 91/100\n",
      "38/38 [==============================] - 2s 46ms/step - loss: 0.0014\n",
      "Epoch 92/100\n",
      "38/38 [==============================] - 2s 47ms/step - loss: 0.0015: 0s - l\n",
      "Epoch 93/100\n",
      "38/38 [==============================] - 2s 46ms/step - loss: 0.0017\n",
      "Epoch 94/100\n",
      "38/38 [==============================] - 2s 46ms/step - loss: 0.0015\n",
      "Epoch 95/100\n",
      "38/38 [==============================] - 2s 46ms/step - loss: 0.0014\n",
      "Epoch 96/100\n",
      "38/38 [==============================] - 2s 46ms/step - loss: 0.0015: 0s - l\n",
      "Epoch 97/100\n",
      "38/38 [==============================] - 2s 46ms/step - loss: 0.0014\n",
      "Epoch 98/100\n",
      "38/38 [==============================] - 2s 46ms/step - loss: 0.0015\n",
      "Epoch 99/100\n"
     ]
    },
    {
     "name": "stdout",
     "output_type": "stream",
     "text": [
      "38/38 [==============================] - 2s 46ms/step - loss: 0.0015: 1s -\n",
      "Epoch 100/100\n",
      "38/38 [==============================] - 2s 46ms/step - loss: 0.0016\n"
     ]
    },
    {
     "data": {
      "text/plain": [
       "<tensorflow.python.keras.callbacks.History at 0x25307bcdd00>"
      ]
     },
     "execution_count": 39,
     "metadata": {},
     "output_type": "execute_result"
    }
   ],
   "source": [
    "regressor.fit(X_train, y_train, epochs = 100, batch_size = 32)"
   ]
  },
  {
   "cell_type": "markdown",
   "metadata": {
    "colab_type": "text",
    "id": "4hRau_lIkrE8"
   },
   "source": [
    "## Part 3 - Making the predictions and visualising the results"
   ]
  },
  {
   "cell_type": "markdown",
   "metadata": {
    "colab_type": "text",
    "id": "SgJO6qEDksxD"
   },
   "source": [
    "### Getting the real stock price of 2017"
   ]
  },
  {
   "cell_type": "code",
   "execution_count": 40,
   "metadata": {
    "colab": {},
    "colab_type": "code",
    "id": "FmBT2zqukxTz"
   },
   "outputs": [],
   "source": [
    "dataset_test = pd.read_csv('Google_Stock_Price_Test.csv')\n",
    "real_stock_price = dataset_test.iloc[:, 1:2].values"
   ]
  },
  {
   "cell_type": "markdown",
   "metadata": {
    "colab_type": "text",
    "id": "GrvrLblxkz42"
   },
   "source": [
    "### Getting the predicted stock price of 2017"
   ]
  },
  {
   "cell_type": "code",
   "execution_count": 41,
   "metadata": {
    "colab": {},
    "colab_type": "code",
    "id": "emikTvUpk3Ck"
   },
   "outputs": [],
   "source": [
    "dataset_total = pd.concat((dataset_train['Open'], dataset_test['Open']), axis = 0)\n",
    "inputs = dataset_total[len(dataset_total) - len(dataset_test) - 60:].values\n",
    "inputs = inputs.reshape(-1,1)\n",
    "inputs = sc.transform(inputs)\n",
    "X_test = []\n",
    "for i in range(60, 80):\n",
    "    X_test.append(inputs[i-60:i, 0])\n",
    "X_test = np.array(X_test)\n",
    "X_test = np.reshape(X_test, (X_test.shape[0], X_test.shape[1], 1))\n",
    "predicted_stock_price = regressor.predict(X_test)\n",
    "predicted_stock_price = sc.inverse_transform(predicted_stock_price)"
   ]
  },
  {
   "cell_type": "markdown",
   "metadata": {
    "colab_type": "text",
    "id": "iFTNs3YHk6FQ"
   },
   "source": [
    "### Visualising the results"
   ]
  },
  {
   "cell_type": "code",
   "execution_count": 42,
   "metadata": {
    "colab": {
     "base_uri": "https://localhost:8080/",
     "height": 295
    },
    "colab_type": "code",
    "id": "8OUI8U49k9tH",
    "outputId": "db0ed15e-071b-4bae-955e-0eda3df95238"
   },
   "outputs": [
    {
     "data": {
      "image/png": "[encoded data removed]",
      "text/plain": [
       "<Figure size 432x288 with 1 Axes>"
      ]
     },
     "metadata": {
      "needs_background": "light"
     },
     "output_type": "display_data"
    }
   ],
   "source": [
    "plt.plot(real_stock_price, color = 'red', label = 'Real Google Stock Price')\n",
    "plt.plot(predicted_stock_price, color = 'blue', label = 'Predicted Google Stock Price')\n",
    "plt.title('Google Stock Price Prediction')\n",
    "plt.xlabel('Time')\n",
    "plt.ylabel('Google Stock Price')\n",
    "plt.legend()\n",
    "plt.show()"
   ]
  }
 ],
 "metadata": {
  "colab": {
   "collapsed_sections": [],
   "name": "recurrent_neural_network.ipynb",
   "provenance": []
  },
  "kernelspec": {
   "display_name": "Python 3",
   "language": "python",
   "name": "python3"
  },
  "language_info": {
   "codemirror_mode": {
    "name": "ipython",
    "version": 3
   },
   "file_extension": ".py",
   "mimetype": "text/x-python",
   "name": "python",
   "nbconvert_exporter": "python",
   "pygments_lexer": "ipython3",
   "version": "3.8.3"
  }
 },
 "nbformat": 4,
 "nbformat_minor": 1
}
