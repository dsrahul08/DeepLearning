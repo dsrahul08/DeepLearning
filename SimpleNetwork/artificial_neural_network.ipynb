{
 "cells": [
  {
   "cell_type": "markdown",
   "metadata": {
    "colab_type": "text",
    "id": "lP6JLo1tGNBg"
   },
   "source": [
    "# Artificial Neural Network"
   ]
  },
  {
   "cell_type": "markdown",
   "metadata": {
    "colab_type": "text",
    "id": "gWZyYmS_UE_L"
   },
   "source": [
    "### Importing the libraries"
   ]
  },
  {
   "cell_type": "code",
   "execution_count": 1,
   "metadata": {
    "colab": {},
    "colab_type": "code",
    "id": "MxkJoQBkUIHC"
   },
   "outputs": [],
   "source": [
    "import numpy as np\n",
    "import pandas as pd\n",
    "import tensorflow as tf\n",
    "import os\n",
    "os.chdir(r'C:\\Users\\Rahul\\Desktop')"
   ]
  },
  {
   "cell_type": "code",
   "execution_count": 2,
   "metadata": {
    "colab": {
     "base_uri": "https://localhost:8080/",
     "height": 34
    },
    "colab_type": "code",
    "id": "ZaTwK7ojXr2F",
    "outputId": "0b27a96d-d11a-43e8-ab4b-87c1f01896fe"
   },
   "outputs": [
    {
     "data": {
      "text/plain": [
       "'2.5.0'"
      ]
     },
     "execution_count": 2,
     "metadata": {},
     "output_type": "execute_result"
    }
   ],
   "source": [
    "tf.__version__"
   ]
  },
  {
   "cell_type": "markdown",
   "metadata": {
    "colab_type": "text",
    "id": "1E0Q3aoKUCRX"
   },
   "source": [
    "## Part 1 - Data Preprocessing"
   ]
  },
  {
   "cell_type": "markdown",
   "metadata": {
    "colab_type": "text",
    "id": "cKWAkFVGUU0Z"
   },
   "source": [
    "### Importing the dataset"
   ]
  },
  {
   "cell_type": "code",
   "execution_count": 3,
   "metadata": {
    "colab": {},
    "colab_type": "code",
    "id": "MXUkhkMfU4wq"
   },
   "outputs": [],
   "source": [
    "dataset = pd.read_csv('Churn_Modelling.csv')\n",
    "X = dataset.iloc[:, 3:-1].values\n",
    "y = dataset.iloc[:, -1].values"
   ]
  },
  {
   "cell_type": "code",
   "execution_count": 4,
   "metadata": {},
   "outputs": [
    {
     "data": {
      "text/html": [
       "<div>\n",
       "<style scoped>\n",
       "    .dataframe tbody tr th:only-of-type {\n",
       "        vertical-align: middle;\n",
       "    }\n",
       "\n",
       "    .dataframe tbody tr th {\n",
       "        vertical-align: top;\n",
       "    }\n",
       "\n",
       "    .dataframe thead th {\n",
       "        text-align: right;\n",
       "    }\n",
       "</style>\n",
       "<table border=\"1\" class=\"dataframe\">\n",
       "  <thead>\n",
       "    <tr style=\"text-align: right;\">\n",
       "      <th></th>\n",
       "      <th>RowNumber</th>\n",
       "      <th>CustomerId</th>\n",
       "      <th>Surname</th>\n",
       "      <th>CreditScore</th>\n",
       "      <th>Geography</th>\n",
       "      <th>Gender</th>\n",
       "      <th>Age</th>\n",
       "      <th>Tenure</th>\n",
       "      <th>Balance</th>\n",
       "      <th>NumOfProducts</th>\n",
       "      <th>HasCrCard</th>\n",
       "      <th>IsActiveMember</th>\n",
       "      <th>EstimatedSalary</th>\n",
       "      <th>Exited</th>\n",
       "    </tr>\n",
       "  </thead>\n",
       "  <tbody>\n",
       "    <tr>\n",
       "      <th>0</th>\n",
       "      <td>1</td>\n",
       "      <td>15634602</td>\n",
       "      <td>Hargrave</td>\n",
       "      <td>619</td>\n",
       "      <td>France</td>\n",
       "      <td>Female</td>\n",
       "      <td>42</td>\n",
       "      <td>2</td>\n",
       "      <td>0.00</td>\n",
       "      <td>1</td>\n",
       "      <td>1</td>\n",
       "      <td>1</td>\n",
       "      <td>101348.88</td>\n",
       "      <td>1</td>\n",
       "    </tr>\n",
       "    <tr>\n",
       "      <th>1</th>\n",
       "      <td>2</td>\n",
       "      <td>15647311</td>\n",
       "      <td>Hill</td>\n",
       "      <td>608</td>\n",
       "      <td>Spain</td>\n",
       "      <td>Female</td>\n",
       "      <td>41</td>\n",
       "      <td>1</td>\n",
       "      <td>83807.86</td>\n",
       "      <td>1</td>\n",
       "      <td>0</td>\n",
       "      <td>1</td>\n",
       "      <td>112542.58</td>\n",
       "      <td>0</td>\n",
       "    </tr>\n",
       "    <tr>\n",
       "      <th>2</th>\n",
       "      <td>3</td>\n",
       "      <td>15619304</td>\n",
       "      <td>Onio</td>\n",
       "      <td>502</td>\n",
       "      <td>France</td>\n",
       "      <td>Female</td>\n",
       "      <td>42</td>\n",
       "      <td>8</td>\n",
       "      <td>159660.80</td>\n",
       "      <td>3</td>\n",
       "      <td>1</td>\n",
       "      <td>0</td>\n",
       "      <td>113931.57</td>\n",
       "      <td>1</td>\n",
       "    </tr>\n",
       "    <tr>\n",
       "      <th>3</th>\n",
       "      <td>4</td>\n",
       "      <td>15701354</td>\n",
       "      <td>Boni</td>\n",
       "      <td>699</td>\n",
       "      <td>France</td>\n",
       "      <td>Female</td>\n",
       "      <td>39</td>\n",
       "      <td>1</td>\n",
       "      <td>0.00</td>\n",
       "      <td>2</td>\n",
       "      <td>0</td>\n",
       "      <td>0</td>\n",
       "      <td>93826.63</td>\n",
       "      <td>0</td>\n",
       "    </tr>\n",
       "    <tr>\n",
       "      <th>4</th>\n",
       "      <td>5</td>\n",
       "      <td>15737888</td>\n",
       "      <td>Mitchell</td>\n",
       "      <td>850</td>\n",
       "      <td>Spain</td>\n",
       "      <td>Female</td>\n",
       "      <td>43</td>\n",
       "      <td>2</td>\n",
       "      <td>125510.82</td>\n",
       "      <td>1</td>\n",
       "      <td>1</td>\n",
       "      <td>1</td>\n",
       "      <td>79084.10</td>\n",
       "      <td>0</td>\n",
       "    </tr>\n",
       "    <tr>\n",
       "      <th>...</th>\n",
       "      <td>...</td>\n",
       "      <td>...</td>\n",
       "      <td>...</td>\n",
       "      <td>...</td>\n",
       "      <td>...</td>\n",
       "      <td>...</td>\n",
       "      <td>...</td>\n",
       "      <td>...</td>\n",
       "      <td>...</td>\n",
       "      <td>...</td>\n",
       "      <td>...</td>\n",
       "      <td>...</td>\n",
       "      <td>...</td>\n",
       "      <td>...</td>\n",
       "    </tr>\n",
       "    <tr>\n",
       "      <th>9995</th>\n",
       "      <td>9996</td>\n",
       "      <td>15606229</td>\n",
       "      <td>Obijiaku</td>\n",
       "      <td>771</td>\n",
       "      <td>France</td>\n",
       "      <td>Male</td>\n",
       "      <td>39</td>\n",
       "      <td>5</td>\n",
       "      <td>0.00</td>\n",
       "      <td>2</td>\n",
       "      <td>1</td>\n",
       "      <td>0</td>\n",
       "      <td>96270.64</td>\n",
       "      <td>0</td>\n",
       "    </tr>\n",
       "    <tr>\n",
       "      <th>9996</th>\n",
       "      <td>9997</td>\n",
       "      <td>15569892</td>\n",
       "      <td>Johnstone</td>\n",
       "      <td>516</td>\n",
       "      <td>France</td>\n",
       "      <td>Male</td>\n",
       "      <td>35</td>\n",
       "      <td>10</td>\n",
       "      <td>57369.61</td>\n",
       "      <td>1</td>\n",
       "      <td>1</td>\n",
       "      <td>1</td>\n",
       "      <td>101699.77</td>\n",
       "      <td>0</td>\n",
       "    </tr>\n",
       "    <tr>\n",
       "      <th>9997</th>\n",
       "      <td>9998</td>\n",
       "      <td>15584532</td>\n",
       "      <td>Liu</td>\n",
       "      <td>709</td>\n",
       "      <td>France</td>\n",
       "      <td>Female</td>\n",
       "      <td>36</td>\n",
       "      <td>7</td>\n",
       "      <td>0.00</td>\n",
       "      <td>1</td>\n",
       "      <td>0</td>\n",
       "      <td>1</td>\n",
       "      <td>42085.58</td>\n",
       "      <td>1</td>\n",
       "    </tr>\n",
       "    <tr>\n",
       "      <th>9998</th>\n",
       "      <td>9999</td>\n",
       "      <td>15682355</td>\n",
       "      <td>Sabbatini</td>\n",
       "      <td>772</td>\n",
       "      <td>Germany</td>\n",
       "      <td>Male</td>\n",
       "      <td>42</td>\n",
       "      <td>3</td>\n",
       "      <td>75075.31</td>\n",
       "      <td>2</td>\n",
       "      <td>1</td>\n",
       "      <td>0</td>\n",
       "      <td>92888.52</td>\n",
       "      <td>1</td>\n",
       "    </tr>\n",
       "    <tr>\n",
       "      <th>9999</th>\n",
       "      <td>10000</td>\n",
       "      <td>15628319</td>\n",
       "      <td>Walker</td>\n",
       "      <td>792</td>\n",
       "      <td>France</td>\n",
       "      <td>Female</td>\n",
       "      <td>28</td>\n",
       "      <td>4</td>\n",
       "      <td>130142.79</td>\n",
       "      <td>1</td>\n",
       "      <td>1</td>\n",
       "      <td>0</td>\n",
       "      <td>38190.78</td>\n",
       "      <td>0</td>\n",
       "    </tr>\n",
       "  </tbody>\n",
       "</table>\n",
       "<p>10000 rows × 14 columns</p>\n",
       "</div>"
      ],
      "text/plain": [
       "      RowNumber  CustomerId    Surname  CreditScore Geography  Gender  Age  \\\n",
       "0             1    15634602   Hargrave          619    France  Female   42   \n",
       "1             2    15647311       Hill          608     Spain  Female   41   \n",
       "2             3    15619304       Onio          502    France  Female   42   \n",
       "3             4    15701354       Boni          699    France  Female   39   \n",
       "4             5    15737888   Mitchell          850     Spain  Female   43   \n",
       "...         ...         ...        ...          ...       ...     ...  ...   \n",
       "9995       9996    15606229   Obijiaku          771    France    Male   39   \n",
       "9996       9997    15569892  Johnstone          516    France    Male   35   \n",
       "9997       9998    15584532        Liu          709    France  Female   36   \n",
       "9998       9999    15682355  Sabbatini          772   Germany    Male   42   \n",
       "9999      10000    15628319     Walker          792    France  Female   28   \n",
       "\n",
       "      Tenure    Balance  NumOfProducts  HasCrCard  IsActiveMember  \\\n",
       "0          2       0.00              1          1               1   \n",
       "1          1   83807.86              1          0               1   \n",
       "2          8  159660.80              3          1               0   \n",
       "3          1       0.00              2          0               0   \n",
       "4          2  125510.82              1          1               1   \n",
       "...      ...        ...            ...        ...             ...   \n",
       "9995       5       0.00              2          1               0   \n",
       "9996      10   57369.61              1          1               1   \n",
       "9997       7       0.00              1          0               1   \n",
       "9998       3   75075.31              2          1               0   \n",
       "9999       4  130142.79              1          1               0   \n",
       "\n",
       "      EstimatedSalary  Exited  \n",
       "0           101348.88       1  \n",
       "1           112542.58       0  \n",
       "2           113931.57       1  \n",
       "3            93826.63       0  \n",
       "4            79084.10       0  \n",
       "...               ...     ...  \n",
       "9995         96270.64       0  \n",
       "9996        101699.77       0  \n",
       "9997         42085.58       1  \n",
       "9998         92888.52       1  \n",
       "9999         38190.78       0  \n",
       "\n",
       "[10000 rows x 14 columns]"
      ]
     },
     "execution_count": 4,
     "metadata": {},
     "output_type": "execute_result"
    }
   ],
   "source": [
    "dataset"
   ]
  },
  {
   "cell_type": "code",
   "execution_count": 5,
   "metadata": {
    "colab": {
     "base_uri": "https://localhost:8080/",
     "height": 137
    },
    "colab_type": "code",
    "id": "VYP9cQTWbzuI",
    "outputId": "797e7a64-9bac-436a-8c9c-94437e5e7587"
   },
   "outputs": [
    {
     "name": "stdout",
     "output_type": "stream",
     "text": [
      "[[619 'France' 'Female' ... 1 1 101348.88]\n",
      " [608 'Spain' 'Female' ... 0 1 112542.58]\n",
      " [502 'France' 'Female' ... 1 0 113931.57]\n",
      " ...\n",
      " [709 'France' 'Female' ... 0 1 42085.58]\n",
      " [772 'Germany' 'Male' ... 1 0 92888.52]\n",
      " [792 'France' 'Female' ... 1 0 38190.78]]\n"
     ]
    }
   ],
   "source": [
    "print(X)"
   ]
  },
  {
   "cell_type": "code",
   "execution_count": 6,
   "metadata": {
    "colab": {
     "base_uri": "https://localhost:8080/",
     "height": 34
    },
    "colab_type": "code",
    "id": "38vKGE6Nb2RR",
    "outputId": "a815e42a-e0dd-4cb5-ab97-b17ead98fbc3"
   },
   "outputs": [
    {
     "name": "stdout",
     "output_type": "stream",
     "text": [
      "[1 0 1 ... 1 1 0]\n"
     ]
    }
   ],
   "source": [
    "print(y)"
   ]
  },
  {
   "cell_type": "markdown",
   "metadata": {
    "colab_type": "text",
    "id": "N6bQ0UgSU-NJ"
   },
   "source": [
    "### Encoding categorical data"
   ]
  },
  {
   "cell_type": "markdown",
   "metadata": {
    "colab_type": "text",
    "id": "le5MJreAbW52"
   },
   "source": [
    "Label Encoding the \"Gender\" column"
   ]
  },
  {
   "cell_type": "code",
   "execution_count": 7,
   "metadata": {
    "colab": {},
    "colab_type": "code",
    "id": "PxVKWXxLbczC"
   },
   "outputs": [],
   "source": [
    "from sklearn.preprocessing import LabelEncoder\n",
    "le = LabelEncoder()\n",
    "X[:, 2] = le.fit_transform(X[:, 2])"
   ]
  },
  {
   "cell_type": "code",
   "execution_count": 8,
   "metadata": {
    "colab": {
     "base_uri": "https://localhost:8080/",
     "height": 137
    },
    "colab_type": "code",
    "id": "-M1KboxFb6OO",
    "outputId": "e2b8c7e8-0cbc-4cdf-f4eb-7f0853a00b88"
   },
   "outputs": [
    {
     "name": "stdout",
     "output_type": "stream",
     "text": [
      "[[619 'France' 0 ... 1 1 101348.88]\n",
      " [608 'Spain' 0 ... 0 1 112542.58]\n",
      " [502 'France' 0 ... 1 0 113931.57]\n",
      " ...\n",
      " [709 'France' 0 ... 0 1 42085.58]\n",
      " [772 'Germany' 1 ... 1 0 92888.52]\n",
      " [792 'France' 0 ... 1 0 38190.78]]\n"
     ]
    }
   ],
   "source": [
    "print(X)"
   ]
  },
  {
   "cell_type": "markdown",
   "metadata": {
    "colab_type": "text",
    "id": "CUxGZezpbMcb"
   },
   "source": [
    "One Hot Encoding the \"Geography\" column"
   ]
  },
  {
   "cell_type": "code",
   "execution_count": 9,
   "metadata": {
    "colab": {},
    "colab_type": "code",
    "id": "AMXC8-KMVirw"
   },
   "outputs": [],
   "source": [
    "from sklearn.compose import ColumnTransformer\n",
    "from sklearn.preprocessing import OneHotEncoder\n",
    "ct = ColumnTransformer(transformers=[('encoder', OneHotEncoder(), [1])], remainder='passthrough')\n",
    "X = np.array(ct.fit_transform(X))"
   ]
  },
  {
   "cell_type": "code",
   "execution_count": 10,
   "metadata": {
    "colab": {
     "base_uri": "https://localhost:8080/",
     "height": 137
    },
    "colab_type": "code",
    "id": "ZcxwEon-b8nV",
    "outputId": "23a98af4-5e33-4b26-c27b-f06e3c5d2baf"
   },
   "outputs": [
    {
     "name": "stdout",
     "output_type": "stream",
     "text": [
      "[[1.0 0.0 0.0 ... 1 1 101348.88]\n",
      " [0.0 0.0 1.0 ... 0 1 112542.58]\n",
      " [1.0 0.0 0.0 ... 1 0 113931.57]\n",
      " ...\n",
      " [1.0 0.0 0.0 ... 0 1 42085.58]\n",
      " [0.0 1.0 0.0 ... 1 0 92888.52]\n",
      " [1.0 0.0 0.0 ... 1 0 38190.78]]\n"
     ]
    }
   ],
   "source": [
    "print(X)"
   ]
  },
  {
   "cell_type": "markdown",
   "metadata": {
    "colab_type": "text",
    "id": "vHol938cW8zd"
   },
   "source": [
    "### Splitting the dataset into the Training set and Test set"
   ]
  },
  {
   "cell_type": "code",
   "execution_count": 11,
   "metadata": {
    "colab": {},
    "colab_type": "code",
    "id": "Z-TDt0Y_XEfc"
   },
   "outputs": [],
   "source": [
    "from sklearn.model_selection import train_test_split\n",
    "X_train, X_test, y_train, y_test = train_test_split(X, y, test_size = 0.2, random_state = 0)"
   ]
  },
  {
   "cell_type": "markdown",
   "metadata": {
    "colab_type": "text",
    "id": "RE_FcHyfV3TQ"
   },
   "source": [
    "### Feature Scaling"
   ]
  },
  {
   "cell_type": "code",
   "execution_count": 12,
   "metadata": {
    "colab": {},
    "colab_type": "code",
    "id": "ViCrE00rV8Sk"
   },
   "outputs": [],
   "source": [
    "from sklearn.preprocessing import StandardScaler\n",
    "sc = StandardScaler()\n",
    "X_train = sc.fit_transform(X_train)\n",
    "X_test = sc.transform(X_test)"
   ]
  },
  {
   "cell_type": "code",
   "execution_count": 13,
   "metadata": {},
   "outputs": [
    {
     "data": {
      "text/plain": [
       "array([[-1.01460667, -0.5698444 ,  1.74309049, ...,  0.64259497,\n",
       "        -1.03227043,  1.10643166],\n",
       "       [-1.01460667,  1.75486502, -0.57369368, ...,  0.64259497,\n",
       "         0.9687384 , -0.74866447],\n",
       "       [ 0.98560362, -0.5698444 , -0.57369368, ...,  0.64259497,\n",
       "        -1.03227043,  1.48533467],\n",
       "       ...,\n",
       "       [ 0.98560362, -0.5698444 , -0.57369368, ...,  0.64259497,\n",
       "        -1.03227043,  1.41231994],\n",
       "       [-1.01460667, -0.5698444 ,  1.74309049, ...,  0.64259497,\n",
       "         0.9687384 ,  0.84432121],\n",
       "       [-1.01460667,  1.75486502, -0.57369368, ...,  0.64259497,\n",
       "        -1.03227043,  0.32472465]])"
      ]
     },
     "execution_count": 13,
     "metadata": {},
     "output_type": "execute_result"
    }
   ],
   "source": [
    "X_train"
   ]
  },
  {
   "cell_type": "markdown",
   "metadata": {
    "colab_type": "text",
    "id": "-zfEzkRVXIwF"
   },
   "source": [
    "## Part 2 - Building the ANN"
   ]
  },
  {
   "cell_type": "markdown",
   "metadata": {
    "colab_type": "text",
    "id": "KvdeScabXtlB"
   },
   "source": [
    "### Initializing the ANN"
   ]
  },
  {
   "cell_type": "code",
   "execution_count": 17,
   "metadata": {
    "colab": {},
    "colab_type": "code",
    "id": "3dtrScHxXQox"
   },
   "outputs": [],
   "source": [
    "ann = tf.keras.models.Sequential()"
   ]
  },
  {
   "cell_type": "markdown",
   "metadata": {
    "colab_type": "text",
    "id": "rP6urV6SX7kS"
   },
   "source": [
    "### Adding the input layer and the first hidden layer"
   ]
  },
  {
   "cell_type": "code",
   "execution_count": 18,
   "metadata": {
    "colab": {},
    "colab_type": "code",
    "id": "bppGycBXYCQr"
   },
   "outputs": [],
   "source": [
    "ann.add(tf.keras.layers.Dense(units=6, activation='relu'))"
   ]
  },
  {
   "cell_type": "markdown",
   "metadata": {
    "colab_type": "text",
    "id": "BELWAc_8YJze"
   },
   "source": [
    "### Adding the second hidden layer"
   ]
  },
  {
   "cell_type": "code",
   "execution_count": 19,
   "metadata": {
    "colab": {},
    "colab_type": "code",
    "id": "JneR0u0sYRTd"
   },
   "outputs": [],
   "source": [
    "ann.add(tf.keras.layers.Dense(units=6, activation='relu'))"
   ]
  },
  {
   "cell_type": "markdown",
   "metadata": {
    "colab_type": "text",
    "id": "OyNEe6RXYcU4"
   },
   "source": [
    "### Adding the output layer"
   ]
  },
  {
   "cell_type": "code",
   "execution_count": 20,
   "metadata": {
    "colab": {},
    "colab_type": "code",
    "id": "Cn3x41RBYfvY"
   },
   "outputs": [],
   "source": [
    "ann.add(tf.keras.layers.Dense(units=1, activation='sigmoid'))"
   ]
  },
  {
   "cell_type": "markdown",
   "metadata": {
    "colab_type": "text",
    "id": "JT4u2S1_Y4WG"
   },
   "source": [
    "## Part 3 - Training the ANN"
   ]
  },
  {
   "cell_type": "markdown",
   "metadata": {
    "colab_type": "text",
    "id": "8GWlJChhY_ZI"
   },
   "source": [
    "### Compiling the ANN"
   ]
  },
  {
   "cell_type": "code",
   "execution_count": 21,
   "metadata": {
    "colab": {},
    "colab_type": "code",
    "id": "fG3RrwDXZEaS"
   },
   "outputs": [],
   "source": [
    "ann.compile(optimizer = 'adam', loss = 'binary_crossentropy', metrics = ['accuracy'])"
   ]
  },
  {
   "cell_type": "code",
   "execution_count": 22,
   "metadata": {},
   "outputs": [
    {
     "data": {
      "text/plain": [
       "8000"
      ]
     },
     "execution_count": 22,
     "metadata": {},
     "output_type": "execute_result"
    }
   ],
   "source": [
    "len(X_train)"
   ]
  },
  {
   "cell_type": "code",
   "execution_count": 23,
   "metadata": {},
   "outputs": [
    {
     "data": {
      "text/plain": [
       "250.0"
      ]
     },
     "execution_count": 23,
     "metadata": {},
     "output_type": "execute_result"
    }
   ],
   "source": [
    "8000/32"
   ]
  },
  {
   "cell_type": "markdown",
   "metadata": {
    "colab_type": "text",
    "id": "0QR_G5u7ZLSM"
   },
   "source": [
    "### Training the ANN on the Training set"
   ]
  },
  {
   "cell_type": "code",
   "execution_count": null,
   "metadata": {
    "colab": {
     "base_uri": "https://localhost:8080/",
     "height": 1000
    },
    "colab_type": "code",
    "id": "nHZ-LKv_ZRb3",
    "outputId": "718cc4b0-b5aa-40f0-9b20-d3d31730a531"
   },
   "outputs": [
    {
     "name": "stdout",
     "output_type": "stream",
     "text": [
      "Epoch 1/500\n",
      "1600/1600 [==============================] - 1s 637us/step - loss: 0.3366 - accuracy: 0.8609\n",
      "Epoch 2/500\n",
      "1600/1600 [==============================] - 1s 639us/step - loss: 0.3350 - accuracy: 0.8624\n",
      "Epoch 3/500\n",
      "1600/1600 [==============================] - 1s 641us/step - loss: 0.3343 - accuracy: 0.8626\n",
      "Epoch 4/500\n",
      "1600/1600 [==============================] - 1s 637us/step - loss: 0.3340 - accuracy: 0.8637\n",
      "Epoch 5/500\n",
      "1600/1600 [==============================] - 1s 633us/step - loss: 0.3351 - accuracy: 0.8624\n",
      "Epoch 6/500\n",
      "1600/1600 [==============================] - 1s 640us/step - loss: 0.3350 - accuracy: 0.8625\n",
      "Epoch 7/500\n",
      "1600/1600 [==============================] - 1s 645us/step - loss: 0.3349 - accuracy: 0.8611\n",
      "Epoch 8/500\n",
      "1600/1600 [==============================] - 1s 640us/step - loss: 0.3342 - accuracy: 0.8615\n",
      "Epoch 9/500\n",
      "1600/1600 [==============================] - 1s 640us/step - loss: 0.3333 - accuracy: 0.8620\n",
      "Epoch 10/500\n",
      "1600/1600 [==============================] - 1s 639us/step - loss: 0.3350 - accuracy: 0.8615\n",
      "Epoch 11/500\n",
      "1600/1600 [==============================] - 1s 638us/step - loss: 0.3341 - accuracy: 0.8616\n",
      "Epoch 12/500\n",
      "1600/1600 [==============================] - 1s 625us/step - loss: 0.3352 - accuracy: 0.8612\n",
      "Epoch 13/500\n",
      "1600/1600 [==============================] - 1s 630us/step - loss: 0.3336 - accuracy: 0.8624\n",
      "Epoch 14/500\n",
      "1600/1600 [==============================] - 1s 646us/step - loss: 0.3340 - accuracy: 0.8626\n",
      "Epoch 15/500\n",
      "1600/1600 [==============================] - 1s 634us/step - loss: 0.3339 - accuracy: 0.8634\n",
      "Epoch 16/500\n",
      "1600/1600 [==============================] - 1s 636us/step - loss: 0.3336 - accuracy: 0.8612\n",
      "Epoch 17/500\n",
      "1600/1600 [==============================] - 1s 637us/step - loss: 0.3342 - accuracy: 0.8622\n",
      "Epoch 18/500\n",
      "1600/1600 [==============================] - 1s 635us/step - loss: 0.3342 - accuracy: 0.8629\n",
      "Epoch 19/500\n",
      "1600/1600 [==============================] - 1s 635us/step - loss: 0.3337 - accuracy: 0.8622\n",
      "Epoch 20/500\n",
      "1600/1600 [==============================] - 1s 657us/step - loss: 0.3346 - accuracy: 0.8600\n",
      "Epoch 21/500\n",
      "1600/1600 [==============================] - 1s 661us/step - loss: 0.3339 - accuracy: 0.8612\n",
      "Epoch 22/500\n",
      "1600/1600 [==============================] - 1s 680us/step - loss: 0.3338 - accuracy: 0.8596\n",
      "Epoch 23/500\n",
      "1600/1600 [==============================] - 1s 658us/step - loss: 0.3341 - accuracy: 0.8633\n",
      "Epoch 24/500\n",
      "1600/1600 [==============================] - 1s 657us/step - loss: 0.3336 - accuracy: 0.8640\n",
      "Epoch 25/500\n",
      "1600/1600 [==============================] - 1s 630us/step - loss: 0.3335 - accuracy: 0.8616\n",
      "Epoch 26/500\n",
      "1600/1600 [==============================] - 1s 638us/step - loss: 0.3338 - accuracy: 0.8612\n",
      "Epoch 27/500\n",
      "1600/1600 [==============================] - 1s 641us/step - loss: 0.3338 - accuracy: 0.8615\n",
      "Epoch 28/500\n",
      "1600/1600 [==============================] - 1s 645us/step - loss: 0.3336 - accuracy: 0.8646\n",
      "Epoch 29/500\n",
      "1600/1600 [==============================] - 1s 655us/step - loss: 0.3331 - accuracy: 0.8650\n",
      "Epoch 30/500\n",
      "1600/1600 [==============================] - 1s 635us/step - loss: 0.3336 - accuracy: 0.8627\n",
      "Epoch 31/500\n",
      "1600/1600 [==============================] - 1s 629us/step - loss: 0.3337 - accuracy: 0.8629\n",
      "Epoch 32/500\n",
      "1600/1600 [==============================] - 1s 674us/step - loss: 0.3335 - accuracy: 0.8619\n",
      "Epoch 33/500\n",
      "1600/1600 [==============================] - 1s 634us/step - loss: 0.3333 - accuracy: 0.8637\n",
      "Epoch 34/500\n",
      "1600/1600 [==============================] - 1s 647us/step - loss: 0.3329 - accuracy: 0.8615\n",
      "Epoch 35/500\n",
      "1600/1600 [==============================] - 1s 648us/step - loss: 0.3325 - accuracy: 0.8635\n",
      "Epoch 36/500\n",
      "1600/1600 [==============================] - 1s 624us/step - loss: 0.3336 - accuracy: 0.8610\n",
      "Epoch 37/500\n",
      "1600/1600 [==============================] - 1s 634us/step - loss: 0.3329 - accuracy: 0.8633\n",
      "Epoch 38/500\n",
      "1600/1600 [==============================] - 1s 632us/step - loss: 0.3327 - accuracy: 0.8630\n",
      "Epoch 39/500\n",
      "1600/1600 [==============================] - 1s 631us/step - loss: 0.3326 - accuracy: 0.8646\n",
      "Epoch 40/500\n",
      "1600/1600 [==============================] - 1s 634us/step - loss: 0.3328 - accuracy: 0.8629\n",
      "Epoch 41/500\n",
      "1600/1600 [==============================] - 1s 647us/step - loss: 0.3320 - accuracy: 0.8637\n",
      "Epoch 42/500\n",
      "1600/1600 [==============================] - 1s 690us/step - loss: 0.3318 - accuracy: 0.8640\n",
      "Epoch 43/500\n",
      "1600/1600 [==============================] - 1s 689us/step - loss: 0.3318 - accuracy: 0.8640\n",
      "Epoch 44/500\n",
      "1600/1600 [==============================] - 1s 643us/step - loss: 0.3323 - accuracy: 0.8635\n",
      "Epoch 45/500\n",
      "1600/1600 [==============================] - 1s 642us/step - loss: 0.3322 - accuracy: 0.8643\n",
      "Epoch 46/500\n",
      "1600/1600 [==============================] - 1s 631us/step - loss: 0.3326 - accuracy: 0.8639\n",
      "Epoch 47/500\n",
      "1600/1600 [==============================] - 1s 638us/step - loss: 0.3319 - accuracy: 0.8626\n",
      "Epoch 48/500\n",
      "1600/1600 [==============================] - 1s 641us/step - loss: 0.3319 - accuracy: 0.8644\n",
      "Epoch 49/500\n",
      "1600/1600 [==============================] - 1s 646us/step - loss: 0.3327 - accuracy: 0.8637\n",
      "Epoch 50/500\n",
      "1600/1600 [==============================] - 1s 644us/step - loss: 0.3322 - accuracy: 0.8654\n",
      "Epoch 51/500\n",
      "1600/1600 [==============================] - 1s 643us/step - loss: 0.3316 - accuracy: 0.8659\n",
      "Epoch 52/500\n",
      "1600/1600 [==============================] - 1s 640us/step - loss: 0.3320 - accuracy: 0.8640\n",
      "Epoch 53/500\n",
      "1600/1600 [==============================] - 1s 647us/step - loss: 0.3317 - accuracy: 0.8664\n",
      "Epoch 54/500\n",
      "1600/1600 [==============================] - 1s 634us/step - loss: 0.3318 - accuracy: 0.8650\n",
      "Epoch 55/500\n",
      "1600/1600 [==============================] - 1s 629us/step - loss: 0.3316 - accuracy: 0.8649\n",
      "Epoch 56/500\n",
      "1600/1600 [==============================] - 1s 628us/step - loss: 0.3312 - accuracy: 0.8650\n",
      "Epoch 57/500\n",
      "1600/1600 [==============================] - 1s 635us/step - loss: 0.3321 - accuracy: 0.8640\n",
      "Epoch 58/500\n",
      "1600/1600 [==============================] - 1s 646us/step - loss: 0.3318 - accuracy: 0.8643\n",
      "Epoch 59/500\n",
      "1600/1600 [==============================] - 1s 644us/step - loss: 0.3313 - accuracy: 0.8660\n",
      "Epoch 60/500\n",
      "1600/1600 [==============================] - 1s 641us/step - loss: 0.3316 - accuracy: 0.8640\n",
      "Epoch 61/500\n",
      "1600/1600 [==============================] - 1s 634us/step - loss: 0.3315 - accuracy: 0.8654\n",
      "Epoch 62/500\n",
      "1600/1600 [==============================] - 1s 637us/step - loss: 0.3317 - accuracy: 0.8650\n",
      "Epoch 63/500\n",
      "1600/1600 [==============================] - 1s 627us/step - loss: 0.3310 - accuracy: 0.8664\n",
      "Epoch 64/500\n",
      "1600/1600 [==============================] - 1s 631us/step - loss: 0.3311 - accuracy: 0.8646\n",
      "Epoch 65/500\n",
      "1600/1600 [==============================] - 1s 658us/step - loss: 0.3317 - accuracy: 0.8659\n",
      "Epoch 66/500\n",
      "1600/1600 [==============================] - 1s 645us/step - loss: 0.3314 - accuracy: 0.8648\n",
      "Epoch 67/500\n",
      "1600/1600 [==============================] - 1s 655us/step - loss: 0.3313 - accuracy: 0.8640\n",
      "Epoch 68/500\n",
      "1600/1600 [==============================] - 1s 639us/step - loss: 0.3313 - accuracy: 0.8656\n",
      "Epoch 69/500\n",
      "1600/1600 [==============================] - 1s 645us/step - loss: 0.3315 - accuracy: 0.8643\n",
      "Epoch 70/500\n",
      "1600/1600 [==============================] - 1s 651us/step - loss: 0.3302 - accuracy: 0.8645\n",
      "Epoch 71/500\n",
      "1600/1600 [==============================] - 1s 653us/step - loss: 0.3317 - accuracy: 0.8639\n",
      "Epoch 72/500\n",
      "1600/1600 [==============================] - 1s 644us/step - loss: 0.3316 - accuracy: 0.8654\n",
      "Epoch 73/500\n",
      "1600/1600 [==============================] - 1s 628us/step - loss: 0.3314 - accuracy: 0.8626\n",
      "Epoch 74/500\n",
      "1600/1600 [==============================] - 1s 638us/step - loss: 0.3312 - accuracy: 0.8650\n",
      "Epoch 75/500\n",
      "1600/1600 [==============================] - 1s 633us/step - loss: 0.3311 - accuracy: 0.8654\n",
      "Epoch 76/500\n",
      "1600/1600 [==============================] - 1s 646us/step - loss: 0.3308 - accuracy: 0.8648\n",
      "Epoch 77/500\n",
      "1600/1600 [==============================] - 1s 648us/step - loss: 0.3313 - accuracy: 0.8656\n",
      "Epoch 78/500\n"
     ]
    },
    {
     "name": "stdout",
     "output_type": "stream",
     "text": [
      "1600/1600 [==============================] - 1s 657us/step - loss: 0.3308 - accuracy: 0.8640\n",
      "Epoch 79/500\n",
      "1600/1600 [==============================] - 1s 643us/step - loss: 0.3311 - accuracy: 0.8644\n",
      "Epoch 80/500\n",
      "1600/1600 [==============================] - 1s 627us/step - loss: 0.3307 - accuracy: 0.8660\n",
      "Epoch 81/500\n",
      "1600/1600 [==============================] - 1s 627us/step - loss: 0.3311 - accuracy: 0.8643\n",
      "Epoch 82/500\n",
      "1600/1600 [==============================] - 1s 645us/step - loss: 0.3312 - accuracy: 0.8659\n",
      "Epoch 83/500\n",
      "1600/1600 [==============================] - 1s 645us/step - loss: 0.3306 - accuracy: 0.8659\n",
      "Epoch 84/500\n",
      "1600/1600 [==============================] - 1s 644us/step - loss: 0.3314 - accuracy: 0.8651\n",
      "Epoch 85/500\n",
      "1600/1600 [==============================] - 1s 629us/step - loss: 0.3306 - accuracy: 0.8654\n",
      "Epoch 86/500\n",
      "1600/1600 [==============================] - 1s 631us/step - loss: 0.3307 - accuracy: 0.8649\n",
      "Epoch 87/500\n",
      "1600/1600 [==============================] - 1s 637us/step - loss: 0.3309 - accuracy: 0.8633\n",
      "Epoch 88/500\n",
      "1600/1600 [==============================] - 1s 634us/step - loss: 0.3308 - accuracy: 0.8690\n",
      "Epoch 89/500\n",
      "1600/1600 [==============================] - 1s 637us/step - loss: 0.3307 - accuracy: 0.8662\n",
      "Epoch 90/500\n",
      "1600/1600 [==============================] - 1s 632us/step - loss: 0.3308 - accuracy: 0.8648\n",
      "Epoch 91/500\n",
      "1600/1600 [==============================] - 1s 633us/step - loss: 0.3306 - accuracy: 0.8646\n",
      "Epoch 92/500\n",
      "1600/1600 [==============================] - 1s 632us/step - loss: 0.3311 - accuracy: 0.8645\n",
      "Epoch 93/500\n",
      "1600/1600 [==============================] - 1s 645us/step - loss: 0.3310 - accuracy: 0.8656\n",
      "Epoch 94/500\n",
      "1600/1600 [==============================] - 1s 648us/step - loss: 0.3307 - accuracy: 0.8648\n",
      "Epoch 95/500\n",
      "1600/1600 [==============================] - 1s 633us/step - loss: 0.3300 - accuracy: 0.8654\n",
      "Epoch 96/500\n",
      "1600/1600 [==============================] - 1s 631us/step - loss: 0.3304 - accuracy: 0.8677\n",
      "Epoch 97/500\n",
      "1600/1600 [==============================] - 1s 631us/step - loss: 0.3309 - accuracy: 0.8637\n",
      "Epoch 98/500\n",
      "1600/1600 [==============================] - 1s 635us/step - loss: 0.3306 - accuracy: 0.8666\n",
      "Epoch 99/500\n",
      "1600/1600 [==============================] - 1s 639us/step - loss: 0.3306 - accuracy: 0.8646\n",
      "Epoch 100/500\n",
      "1600/1600 [==============================] - 1s 641us/step - loss: 0.3300 - accuracy: 0.8641\n",
      "Epoch 101/500\n",
      "1600/1600 [==============================] - 1s 637us/step - loss: 0.3307 - accuracy: 0.8650\n",
      "Epoch 102/500\n",
      "1600/1600 [==============================] - 1s 655us/step - loss: 0.3303 - accuracy: 0.8658\n",
      "Epoch 103/500\n",
      "1600/1600 [==============================] - 1s 661us/step - loss: 0.3310 - accuracy: 0.8655\n",
      "Epoch 104/500\n",
      "1600/1600 [==============================] - 1s 629us/step - loss: 0.3301 - accuracy: 0.8659\n",
      "Epoch 105/500\n",
      "1600/1600 [==============================] - 1s 629us/step - loss: 0.3312 - accuracy: 0.8651\n",
      "Epoch 106/500\n",
      "1600/1600 [==============================] - 1s 633us/step - loss: 0.3304 - accuracy: 0.8658\n",
      "Epoch 107/500\n",
      "1600/1600 [==============================] - 1s 633us/step - loss: 0.3298 - accuracy: 0.8665\n",
      "Epoch 108/500\n",
      "1600/1600 [==============================] - 1s 652us/step - loss: 0.3305 - accuracy: 0.8658\n",
      "Epoch 109/500\n",
      "1600/1600 [==============================] - 1s 634us/step - loss: 0.3306 - accuracy: 0.8669\n",
      "Epoch 110/500\n",
      "1600/1600 [==============================] - 1s 629us/step - loss: 0.3304 - accuracy: 0.8654\n",
      "Epoch 111/500\n",
      "1600/1600 [==============================] - 1s 632us/step - loss: 0.3299 - accuracy: 0.8640\n",
      "Epoch 112/500\n",
      "1600/1600 [==============================] - 1s 632us/step - loss: 0.3305 - accuracy: 0.8666\n",
      "Epoch 113/500\n",
      "1600/1600 [==============================] - 1s 635us/step - loss: 0.3296 - accuracy: 0.8668\n",
      "Epoch 114/500\n",
      "1600/1600 [==============================] - 1s 666us/step - loss: 0.3302 - accuracy: 0.8646\n",
      "Epoch 115/500\n",
      "1600/1600 [==============================] - 1s 676us/step - loss: 0.3300 - accuracy: 0.8668\n",
      "Epoch 116/500\n",
      "1600/1600 [==============================] - 1s 650us/step - loss: 0.3304 - accuracy: 0.8650\n",
      "Epoch 117/500\n",
      "1600/1600 [==============================] - 1s 670us/step - loss: 0.3302 - accuracy: 0.8659\n",
      "Epoch 118/500\n",
      "1600/1600 [==============================] - 1s 649us/step - loss: 0.3301 - accuracy: 0.8655\n",
      "Epoch 119/500\n",
      "1600/1600 [==============================] - 1s 684us/step - loss: 0.3304 - accuracy: 0.8652\n",
      "Epoch 120/500\n",
      "1600/1600 [==============================] - 2s 1ms/step - loss: 0.3307 - accuracy: 0.8658\n",
      "Epoch 121/500\n",
      "1600/1600 [==============================] - 1s 686us/step - loss: 0.3298 - accuracy: 0.8655\n",
      "Epoch 122/500\n",
      "1600/1600 [==============================] - 1s 650us/step - loss: 0.3304 - accuracy: 0.8654\n",
      "Epoch 123/500\n",
      "1600/1600 [==============================] - 1s 654us/step - loss: 0.3288 - accuracy: 0.8664\n",
      "Epoch 124/500\n",
      "1600/1600 [==============================] - 1s 652us/step - loss: 0.3303 - accuracy: 0.8648\n",
      "Epoch 125/500\n",
      "1600/1600 [==============================] - 1s 637us/step - loss: 0.3300 - accuracy: 0.8656\n",
      "Epoch 126/500\n",
      "1600/1600 [==============================] - 1s 644us/step - loss: 0.3294 - accuracy: 0.8662\n",
      "Epoch 127/500\n",
      "1600/1600 [==============================] - 1s 647us/step - loss: 0.3291 - accuracy: 0.8652\n",
      "Epoch 128/500\n",
      "1600/1600 [==============================] - 1s 632us/step - loss: 0.3303 - accuracy: 0.8654\n",
      "Epoch 129/500\n",
      "1600/1600 [==============================] - 1s 651us/step - loss: 0.3295 - accuracy: 0.8643\n",
      "Epoch 130/500\n",
      "1600/1600 [==============================] - 1s 670us/step - loss: 0.3302 - accuracy: 0.8631\n",
      "Epoch 131/500\n",
      "1600/1600 [==============================] - 1s 639us/step - loss: 0.3289 - accuracy: 0.8652\n",
      "Epoch 132/500\n",
      "1600/1600 [==============================] - 1s 660us/step - loss: 0.3298 - accuracy: 0.8645\n",
      "Epoch 133/500\n",
      "1600/1600 [==============================] - 1s 658us/step - loss: 0.3296 - accuracy: 0.8636\n",
      "Epoch 134/500\n",
      "1600/1600 [==============================] - 1s 646us/step - loss: 0.3295 - accuracy: 0.8652\n",
      "Epoch 135/500\n",
      "1600/1600 [==============================] - 1s 652us/step - loss: 0.3295 - accuracy: 0.8652\n",
      "Epoch 136/500\n",
      "1600/1600 [==============================] - 1s 656us/step - loss: 0.3289 - accuracy: 0.8661\n",
      "Epoch 137/500\n",
      "1600/1600 [==============================] - 1s 660us/step - loss: 0.3295 - accuracy: 0.8664\n",
      "Epoch 138/500\n",
      "1600/1600 [==============================] - 1s 651us/step - loss: 0.3292 - accuracy: 0.8650\n",
      "Epoch 139/500\n",
      "1600/1600 [==============================] - 1s 646us/step - loss: 0.3299 - accuracy: 0.8659\n",
      "Epoch 140/500\n",
      "1600/1600 [==============================] - 1s 639us/step - loss: 0.3291 - accuracy: 0.8662\n",
      "Epoch 141/500\n",
      "1600/1600 [==============================] - 1s 641us/step - loss: 0.3297 - accuracy: 0.8666\n",
      "Epoch 142/500\n",
      "1600/1600 [==============================] - 1s 634us/step - loss: 0.3286 - accuracy: 0.8669\n",
      "Epoch 143/500\n",
      "1600/1600 [==============================] - 1s 648us/step - loss: 0.3294 - accuracy: 0.8666\n",
      "Epoch 144/500\n",
      "1600/1600 [==============================] - 1s 735us/step - loss: 0.3288 - accuracy: 0.8670\n",
      "Epoch 145/500\n",
      "1600/1600 [==============================] - 1s 630us/step - loss: 0.3290 - accuracy: 0.8645\n",
      "Epoch 146/500\n",
      "1600/1600 [==============================] - 1s 646us/step - loss: 0.3295 - accuracy: 0.8661\n",
      "Epoch 147/500\n",
      "1600/1600 [==============================] - 1s 642us/step - loss: 0.3285 - accuracy: 0.8650\n",
      "Epoch 148/500\n",
      "1600/1600 [==============================] - 1s 643us/step - loss: 0.3292 - accuracy: 0.8659\n",
      "Epoch 149/500\n",
      "1600/1600 [==============================] - 1s 655us/step - loss: 0.3288 - accuracy: 0.8655\n",
      "Epoch 150/500\n",
      "1600/1600 [==============================] - 1s 645us/step - loss: 0.3297 - accuracy: 0.8656\n",
      "Epoch 151/500\n",
      "1600/1600 [==============================] - 1s 643us/step - loss: 0.3291 - accuracy: 0.8649\n",
      "Epoch 152/500\n",
      "1600/1600 [==============================] - 1s 650us/step - loss: 0.3296 - accuracy: 0.8634\n",
      "Epoch 153/500\n",
      "1600/1600 [==============================] - 1s 644us/step - loss: 0.3285 - accuracy: 0.8674\n",
      "Epoch 154/500\n"
     ]
    },
    {
     "name": "stdout",
     "output_type": "stream",
     "text": [
      "1600/1600 [==============================] - 1s 638us/step - loss: 0.3284 - accuracy: 0.8683\n",
      "Epoch 155/500\n",
      "1600/1600 [==============================] - 1s 641us/step - loss: 0.3296 - accuracy: 0.8670\n",
      "Epoch 156/500\n",
      "1600/1600 [==============================] - 1s 643us/step - loss: 0.3291 - accuracy: 0.8634\n",
      "Epoch 157/500\n",
      "1600/1600 [==============================] - 1s 629us/step - loss: 0.3286 - accuracy: 0.8673\n",
      "Epoch 158/500\n",
      "1600/1600 [==============================] - 1s 646us/step - loss: 0.3286 - accuracy: 0.8675\n",
      "Epoch 159/500\n",
      "1600/1600 [==============================] - 1s 643us/step - loss: 0.3294 - accuracy: 0.8662\n",
      "Epoch 160/500\n",
      "1600/1600 [==============================] - 1s 644us/step - loss: 0.3287 - accuracy: 0.8669\n",
      "Epoch 161/500\n",
      "1600/1600 [==============================] - 1s 638us/step - loss: 0.3292 - accuracy: 0.8651\n",
      "Epoch 162/500\n",
      "1600/1600 [==============================] - 1s 644us/step - loss: 0.3294 - accuracy: 0.8646\n",
      "Epoch 163/500\n",
      "1600/1600 [==============================] - 1s 646us/step - loss: 0.3284 - accuracy: 0.8660\n",
      "Epoch 164/500\n",
      "1600/1600 [==============================] - 1s 644us/step - loss: 0.3295 - accuracy: 0.8655\n",
      "Epoch 165/500\n",
      "1600/1600 [==============================] - 1s 652us/step - loss: 0.3283 - accuracy: 0.8660\n",
      "Epoch 166/500\n",
      "1600/1600 [==============================] - 1s 672us/step - loss: 0.3292 - accuracy: 0.8639\n",
      "Epoch 167/500\n",
      "1600/1600 [==============================] - 1s 643us/step - loss: 0.3283 - accuracy: 0.8645\n",
      "Epoch 168/500\n",
      "1600/1600 [==============================] - 1s 649us/step - loss: 0.3288 - accuracy: 0.8666\n",
      "Epoch 169/500\n",
      "1600/1600 [==============================] - 1s 650us/step - loss: 0.3286 - accuracy: 0.8669\n",
      "Epoch 170/500\n",
      "1600/1600 [==============================] - 1s 651us/step - loss: 0.3285 - accuracy: 0.8664\n",
      "Epoch 171/500\n",
      "1600/1600 [==============================] - 1s 640us/step - loss: 0.3290 - accuracy: 0.8640\n",
      "Epoch 172/500\n",
      "1600/1600 [==============================] - 1s 650us/step - loss: 0.3279 - accuracy: 0.8666\n",
      "Epoch 173/500\n",
      "1600/1600 [==============================] - 1s 654us/step - loss: 0.3283 - accuracy: 0.8660\n",
      "Epoch 174/500\n",
      "1600/1600 [==============================] - 1s 649us/step - loss: 0.3292 - accuracy: 0.8646\n",
      "Epoch 175/500\n",
      "1600/1600 [==============================] - 1s 647us/step - loss: 0.3289 - accuracy: 0.8661\n",
      "Epoch 176/500\n",
      "1600/1600 [==============================] - 1s 638us/step - loss: 0.3284 - accuracy: 0.8656\n",
      "Epoch 177/500\n",
      "1600/1600 [==============================] - 1s 649us/step - loss: 0.3286 - accuracy: 0.8659\n",
      "Epoch 178/500\n",
      "1600/1600 [==============================] - 1s 648us/step - loss: 0.3291 - accuracy: 0.8641\n",
      "Epoch 179/500\n",
      "1600/1600 [==============================] - 1s 652us/step - loss: 0.3284 - accuracy: 0.8656\n",
      "Epoch 180/500\n",
      "1600/1600 [==============================] - 1s 653us/step - loss: 0.3284 - accuracy: 0.8629\n",
      "Epoch 181/500\n",
      "1600/1600 [==============================] - 1s 645us/step - loss: 0.3283 - accuracy: 0.8654\n",
      "Epoch 182/500\n",
      "1600/1600 [==============================] - 1s 637us/step - loss: 0.3280 - accuracy: 0.8656\n",
      "Epoch 183/500\n",
      "1600/1600 [==============================] - 1s 631us/step - loss: 0.3284 - accuracy: 0.8676\n",
      "Epoch 184/500\n",
      "1600/1600 [==============================] - 1s 647us/step - loss: 0.3290 - accuracy: 0.8651\n",
      "Epoch 185/500\n",
      "1600/1600 [==============================] - 1s 660us/step - loss: 0.3291 - accuracy: 0.8655\n",
      "Epoch 186/500\n",
      "1600/1600 [==============================] - 1s 652us/step - loss: 0.3287 - accuracy: 0.8659\n",
      "Epoch 187/500\n",
      "1600/1600 [==============================] - 1s 651us/step - loss: 0.3281 - accuracy: 0.8675\n",
      "Epoch 188/500\n",
      "1600/1600 [==============================] - 1s 660us/step - loss: 0.3289 - accuracy: 0.8661\n",
      "Epoch 189/500\n",
      "1600/1600 [==============================] - 1s 658us/step - loss: 0.3290 - accuracy: 0.8643\n",
      "Epoch 190/500\n",
      "1600/1600 [==============================] - 1s 658us/step - loss: 0.3282 - accuracy: 0.8658\n",
      "Epoch 191/500\n",
      "1600/1600 [==============================] - 1s 652us/step - loss: 0.3289 - accuracy: 0.8659\n",
      "Epoch 192/500\n",
      "1600/1600 [==============================] - 1s 644us/step - loss: 0.3285 - accuracy: 0.8643\n",
      "Epoch 193/500\n",
      "1600/1600 [==============================] - 1s 648us/step - loss: 0.3282 - accuracy: 0.8674\n",
      "Epoch 194/500\n",
      "1600/1600 [==============================] - 1s 643us/step - loss: 0.3290 - accuracy: 0.8662\n",
      "Epoch 195/500\n",
      "1600/1600 [==============================] - 1s 680us/step - loss: 0.3285 - accuracy: 0.8659\n",
      "Epoch 196/500\n",
      "1600/1600 [==============================] - 1s 649us/step - loss: 0.3285 - accuracy: 0.8654\n",
      "Epoch 197/500\n",
      "1600/1600 [==============================] - 1s 717us/step - loss: 0.3288 - accuracy: 0.8651\n",
      "Epoch 198/500\n",
      "1600/1600 [==============================] - 1s 650us/step - loss: 0.3286 - accuracy: 0.8650\n",
      "Epoch 199/500\n",
      "1600/1600 [==============================] - 1s 643us/step - loss: 0.3283 - accuracy: 0.8649\n",
      "Epoch 200/500\n",
      "1600/1600 [==============================] - 1s 648us/step - loss: 0.3294 - accuracy: 0.8668\n",
      "Epoch 201/500\n",
      "1600/1600 [==============================] - 1s 647us/step - loss: 0.3287 - accuracy: 0.8640\n",
      "Epoch 202/500\n",
      "1600/1600 [==============================] - 1s 648us/step - loss: 0.3284 - accuracy: 0.8652\n",
      "Epoch 203/500\n",
      "1600/1600 [==============================] - 1s 654us/step - loss: 0.3284 - accuracy: 0.8679\n",
      "Epoch 204/500\n",
      "1600/1600 [==============================] - 1s 648us/step - loss: 0.3275 - accuracy: 0.8671\n",
      "Epoch 205/500\n",
      "1600/1600 [==============================] - 1s 644us/step - loss: 0.3288 - accuracy: 0.8671\n",
      "Epoch 206/500\n",
      "1600/1600 [==============================] - 1s 653us/step - loss: 0.3283 - accuracy: 0.8650\n",
      "Epoch 207/500\n",
      "1600/1600 [==============================] - 1s 650us/step - loss: 0.3287 - accuracy: 0.8679\n",
      "Epoch 208/500\n",
      "1600/1600 [==============================] - 1s 650us/step - loss: 0.3288 - accuracy: 0.8659\n",
      "Epoch 209/500\n",
      "1600/1600 [==============================] - 1s 646us/step - loss: 0.3283 - accuracy: 0.8666\n",
      "Epoch 210/500\n",
      "1600/1600 [==============================] - 1s 648us/step - loss: 0.3284 - accuracy: 0.8670\n",
      "Epoch 211/500\n",
      "1600/1600 [==============================] - 1s 650us/step - loss: 0.3284 - accuracy: 0.8664\n",
      "Epoch 212/500\n",
      "1600/1600 [==============================] - 1s 654us/step - loss: 0.3282 - accuracy: 0.8666\n",
      "Epoch 213/500\n",
      "1600/1600 [==============================] - 1s 651us/step - loss: 0.3288 - accuracy: 0.8643\n",
      "Epoch 214/500\n",
      "1600/1600 [==============================] - 1s 645us/step - loss: 0.3280 - accuracy: 0.8646\n",
      "Epoch 215/500\n",
      "1600/1600 [==============================] - 1s 648us/step - loss: 0.3287 - accuracy: 0.8669\n",
      "Epoch 216/500\n",
      "1600/1600 [==============================] - 1s 648us/step - loss: 0.3287 - accuracy: 0.8659\n",
      "Epoch 217/500\n",
      "1600/1600 [==============================] - 1s 651us/step - loss: 0.3285 - accuracy: 0.8652\n",
      "Epoch 218/500\n",
      "1600/1600 [==============================] - 1s 651us/step - loss: 0.3285 - accuracy: 0.8676\n",
      "Epoch 219/500\n",
      "1600/1600 [==============================] - 1s 648us/step - loss: 0.3282 - accuracy: 0.8680\n",
      "Epoch 220/500\n",
      "1600/1600 [==============================] - 1s 651us/step - loss: 0.3288 - accuracy: 0.8654\n",
      "Epoch 221/500\n",
      "1600/1600 [==============================] - 1s 652us/step - loss: 0.3281 - accuracy: 0.8669\n",
      "Epoch 222/500\n",
      "1600/1600 [==============================] - 1s 654us/step - loss: 0.3283 - accuracy: 0.8668\n",
      "Epoch 223/500\n",
      "1600/1600 [==============================] - 1s 655us/step - loss: 0.3281 - accuracy: 0.8649\n",
      "Epoch 224/500\n",
      "1600/1600 [==============================] - 1s 664us/step - loss: 0.3290 - accuracy: 0.8660\n",
      "Epoch 225/500\n",
      "1600/1600 [==============================] - 1s 659us/step - loss: 0.3281 - accuracy: 0.8681\n",
      "Epoch 226/500\n",
      "1600/1600 [==============================] - 1s 651us/step - loss: 0.3287 - accuracy: 0.8677\n",
      "Epoch 227/500\n",
      "1600/1600 [==============================] - 1s 657us/step - loss: 0.3284 - accuracy: 0.8658\n",
      "Epoch 228/500\n",
      "1600/1600 [==============================] - 1s 649us/step - loss: 0.3283 - accuracy: 0.8662\n",
      "Epoch 229/500\n",
      "1600/1600 [==============================] - 1s 652us/step - loss: 0.3287 - accuracy: 0.8655\n",
      "Epoch 230/500\n"
     ]
    },
    {
     "name": "stdout",
     "output_type": "stream",
     "text": [
      "1600/1600 [==============================] - 1s 649us/step - loss: 0.3290 - accuracy: 0.8651\n",
      "Epoch 231/500\n",
      "1600/1600 [==============================] - 1s 649us/step - loss: 0.3280 - accuracy: 0.8662\n",
      "Epoch 232/500\n",
      "1600/1600 [==============================] - 1s 646us/step - loss: 0.3287 - accuracy: 0.8673\n",
      "Epoch 233/500\n",
      "1600/1600 [==============================] - 1s 653us/step - loss: 0.3285 - accuracy: 0.8676\n",
      "Epoch 234/500\n",
      "1600/1600 [==============================] - 1s 674us/step - loss: 0.3282 - accuracy: 0.8686\n",
      "Epoch 235/500\n",
      "1600/1600 [==============================] - 1s 664us/step - loss: 0.3274 - accuracy: 0.8659\n",
      "Epoch 236/500\n",
      "1600/1600 [==============================] - 1s 666us/step - loss: 0.3278 - accuracy: 0.8659\n",
      "Epoch 237/500\n",
      "1600/1600 [==============================] - 1s 672us/step - loss: 0.3280 - accuracy: 0.8669\n",
      "Epoch 238/500\n",
      "1600/1600 [==============================] - 1s 675us/step - loss: 0.3288 - accuracy: 0.8648\n",
      "Epoch 239/500\n",
      "1600/1600 [==============================] - 1s 676us/step - loss: 0.3280 - accuracy: 0.8668\n",
      "Epoch 240/500\n",
      "1600/1600 [==============================] - 1s 663us/step - loss: 0.3284 - accuracy: 0.8655\n",
      "Epoch 241/500\n",
      "1600/1600 [==============================] - 1s 685us/step - loss: 0.3284 - accuracy: 0.8655\n",
      "Epoch 242/500\n",
      "1600/1600 [==============================] - 1s 669us/step - loss: 0.3285 - accuracy: 0.8661\n",
      "Epoch 243/500\n",
      "1600/1600 [==============================] - 1s 666us/step - loss: 0.3275 - accuracy: 0.8659\n",
      "Epoch 244/500\n",
      "1600/1600 [==============================] - 1s 664us/step - loss: 0.3284 - accuracy: 0.8650\n",
      "Epoch 245/500\n",
      "1600/1600 [==============================] - 1s 684us/step - loss: 0.3282 - accuracy: 0.8656\n",
      "Epoch 246/500\n",
      "1600/1600 [==============================] - 1s 678us/step - loss: 0.3285 - accuracy: 0.8665\n",
      "Epoch 247/500\n",
      "1600/1600 [==============================] - 1s 695us/step - loss: 0.3278 - accuracy: 0.8674\n",
      "Epoch 248/500\n",
      "1600/1600 [==============================] - 1s 691us/step - loss: 0.3288 - accuracy: 0.8654\n",
      "Epoch 249/500\n",
      "1600/1600 [==============================] - 1s 688us/step - loss: 0.3283 - accuracy: 0.8664\n",
      "Epoch 250/500\n",
      "1600/1600 [==============================] - 1s 707us/step - loss: 0.3279 - accuracy: 0.8683\n",
      "Epoch 251/500\n",
      "1600/1600 [==============================] - 1s 697us/step - loss: 0.3285 - accuracy: 0.8654\n",
      "Epoch 252/500\n",
      "1600/1600 [==============================] - 1s 706us/step - loss: 0.3280 - accuracy: 0.8658\n",
      "Epoch 253/500\n",
      "1600/1600 [==============================] - 1s 709us/step - loss: 0.3289 - accuracy: 0.8668\n",
      "Epoch 254/500\n",
      "1600/1600 [==============================] - 1s 692us/step - loss: 0.3281 - accuracy: 0.8662\n",
      "Epoch 255/500\n",
      "1600/1600 [==============================] - 1s 689us/step - loss: 0.3283 - accuracy: 0.8683\n",
      "Epoch 256/500\n",
      "1600/1600 [==============================] - 1s 701us/step - loss: 0.3283 - accuracy: 0.8673\n",
      "Epoch 257/500\n",
      "1600/1600 [==============================] - 1s 693us/step - loss: 0.3281 - accuracy: 0.8664\n",
      "Epoch 258/500\n",
      "1600/1600 [==============================] - 1s 690us/step - loss: 0.3283 - accuracy: 0.8666\n",
      "Epoch 259/500\n",
      "1600/1600 [==============================] - 1s 699us/step - loss: 0.3284 - accuracy: 0.8660\n",
      "Epoch 260/500\n",
      "1600/1600 [==============================] - 1s 692us/step - loss: 0.3288 - accuracy: 0.8679\n",
      "Epoch 261/500\n",
      "1600/1600 [==============================] - 1s 693us/step - loss: 0.3285 - accuracy: 0.8666\n",
      "Epoch 262/500\n",
      "1600/1600 [==============================] - 1s 686us/step - loss: 0.3287 - accuracy: 0.8666\n",
      "Epoch 263/500\n",
      "1600/1600 [==============================] - 1s 707us/step - loss: 0.3282 - accuracy: 0.8660\n",
      "Epoch 264/500\n",
      "1600/1600 [==============================] - 1s 690us/step - loss: 0.3280 - accuracy: 0.8668\n",
      "Epoch 265/500\n",
      "1600/1600 [==============================] - 1s 700us/step - loss: 0.3282 - accuracy: 0.8668\n",
      "Epoch 266/500\n",
      "1600/1600 [==============================] - 1s 713us/step - loss: 0.3274 - accuracy: 0.8645\n",
      "Epoch 267/500\n",
      "1600/1600 [==============================] - 1s 696us/step - loss: 0.3281 - accuracy: 0.8673\n",
      "Epoch 268/500\n",
      "1600/1600 [==============================] - 1s 699us/step - loss: 0.3278 - accuracy: 0.8674\n",
      "Epoch 269/500\n",
      "1600/1600 [==============================] - 1s 696us/step - loss: 0.3281 - accuracy: 0.8655\n",
      "Epoch 270/500\n",
      "1600/1600 [==============================] - 1s 696us/step - loss: 0.3284 - accuracy: 0.8668\n",
      "Epoch 271/500\n",
      "1600/1600 [==============================] - 1s 705us/step - loss: 0.3285 - accuracy: 0.8655\n",
      "Epoch 272/500\n",
      "1600/1600 [==============================] - 1s 702us/step - loss: 0.3283 - accuracy: 0.8662\n",
      "Epoch 273/500\n",
      "1600/1600 [==============================] - 1s 699us/step - loss: 0.3280 - accuracy: 0.8662\n",
      "Epoch 274/500\n",
      "1600/1600 [==============================] - 1s 703us/step - loss: 0.3287 - accuracy: 0.8679\n",
      "Epoch 275/500\n",
      "1600/1600 [==============================] - 1s 704us/step - loss: 0.3286 - accuracy: 0.8671\n",
      "Epoch 276/500\n",
      "1600/1600 [==============================] - 1s 706us/step - loss: 0.3287 - accuracy: 0.8656\n",
      "Epoch 277/500\n",
      "1600/1600 [==============================] - 1s 706us/step - loss: 0.3286 - accuracy: 0.8645\n",
      "Epoch 278/500\n",
      "1600/1600 [==============================] - 1s 714us/step - loss: 0.3283 - accuracy: 0.8648\n",
      "Epoch 279/500\n",
      "1600/1600 [==============================] - 1s 726us/step - loss: 0.3288 - accuracy: 0.8660\n",
      "Epoch 280/500\n",
      "1600/1600 [==============================] - 1s 741us/step - loss: 0.3280 - accuracy: 0.8673\n",
      "Epoch 281/500\n",
      "1600/1600 [==============================] - 1s 712us/step - loss: 0.3281 - accuracy: 0.8655\n",
      "Epoch 282/500\n",
      "1600/1600 [==============================] - 1s 723us/step - loss: 0.3281 - accuracy: 0.8660\n",
      "Epoch 283/500\n",
      "1600/1600 [==============================] - 1s 711us/step - loss: 0.3281 - accuracy: 0.8662\n",
      "Epoch 284/500\n",
      "1600/1600 [==============================] - 1s 717us/step - loss: 0.3279 - accuracy: 0.8677\n",
      "Epoch 285/500\n",
      "1600/1600 [==============================] - 1s 715us/step - loss: 0.3283 - accuracy: 0.8665\n",
      "Epoch 286/500\n",
      "1600/1600 [==============================] - 1s 717us/step - loss: 0.3283 - accuracy: 0.8665\n",
      "Epoch 287/500\n",
      "1600/1600 [==============================] - 1s 733us/step - loss: 0.3274 - accuracy: 0.8660\n",
      "Epoch 288/500\n",
      "1600/1600 [==============================] - 1s 743us/step - loss: 0.3282 - accuracy: 0.8656\n",
      "Epoch 289/500\n",
      "1600/1600 [==============================] - 1s 747us/step - loss: 0.3274 - accuracy: 0.8677\n",
      "Epoch 290/500\n",
      "1600/1600 [==============================] - 1s 745us/step - loss: 0.3288 - accuracy: 0.8655\n",
      "Epoch 291/500\n",
      "1600/1600 [==============================] - 1s 751us/step - loss: 0.3278 - accuracy: 0.8652\n",
      "Epoch 292/500\n",
      "1600/1600 [==============================] - 1s 786us/step - loss: 0.3283 - accuracy: 0.8666\n",
      "Epoch 293/500\n",
      "1600/1600 [==============================] - 1s 769us/step - loss: 0.3285 - accuracy: 0.8655\n",
      "Epoch 294/500\n",
      "1600/1600 [==============================] - 1s 799us/step - loss: 0.3288 - accuracy: 0.8660\n",
      "Epoch 295/500\n",
      "1600/1600 [==============================] - 1s 762us/step - loss: 0.3278 - accuracy: 0.8673\n",
      "Epoch 296/500\n",
      "1600/1600 [==============================] - 1s 835us/step - loss: 0.3287 - accuracy: 0.8668\n",
      "Epoch 297/500\n",
      "1600/1600 [==============================] - 1s 744us/step - loss: 0.3278 - accuracy: 0.8671\n",
      "Epoch 298/500\n",
      "1600/1600 [==============================] - 1s 818us/step - loss: 0.3288 - accuracy: 0.8670\n",
      "Epoch 299/500\n",
      "1600/1600 [==============================] - 1s 755us/step - loss: 0.3275 - accuracy: 0.8692\n",
      "Epoch 300/500\n",
      "1600/1600 [==============================] - 1s 722us/step - loss: 0.3280 - accuracy: 0.8665\n",
      "Epoch 301/500\n",
      "1600/1600 [==============================] - 1s 752us/step - loss: 0.3290 - accuracy: 0.8671\n",
      "Epoch 302/500\n",
      "1600/1600 [==============================] - 1s 728us/step - loss: 0.3279 - accuracy: 0.8656\n",
      "Epoch 303/500\n",
      "1600/1600 [==============================] - 1s 760us/step - loss: 0.3277 - accuracy: 0.8681\n",
      "Epoch 304/500\n",
      "1600/1600 [==============================] - ETA: 0s - loss: 0.3281 - accuracy: 0.86 - 1s 749us/step - loss: 0.3281 - accuracy: 0.8664\n",
      "Epoch 305/500\n",
      "1600/1600 [==============================] - 1s 845us/step - loss: 0.3274 - accuracy: 0.8680\n",
      "Epoch 306/500\n"
     ]
    },
    {
     "name": "stdout",
     "output_type": "stream",
     "text": [
      "1600/1600 [==============================] - 1s 741us/step - loss: 0.3289 - accuracy: 0.8649\n",
      "Epoch 307/500\n",
      "1600/1600 [==============================] - 1s 794us/step - loss: 0.3272 - accuracy: 0.8683\n",
      "Epoch 308/500\n",
      "1600/1600 [==============================] - 1s 764us/step - loss: 0.3284 - accuracy: 0.8662\n",
      "Epoch 309/500\n",
      "1600/1600 [==============================] - 1s 751us/step - loss: 0.3272 - accuracy: 0.8690\n",
      "Epoch 310/500\n",
      "1600/1600 [==============================] - 1s 895us/step - loss: 0.3276 - accuracy: 0.8662\n",
      "Epoch 311/500\n",
      "1600/1600 [==============================] - 1s 735us/step - loss: 0.3290 - accuracy: 0.8660\n",
      "Epoch 312/500\n",
      "1600/1600 [==============================] - 1s 720us/step - loss: 0.3286 - accuracy: 0.8664\n",
      "Epoch 313/500\n",
      "1600/1600 [==============================] - 1s 744us/step - loss: 0.3283 - accuracy: 0.8661\n",
      "Epoch 314/500\n",
      "1600/1600 [==============================] - 1s 757us/step - loss: 0.3282 - accuracy: 0.8659\n",
      "Epoch 315/500\n",
      "1600/1600 [==============================] - 1s 750us/step - loss: 0.3273 - accuracy: 0.8670\n",
      "Epoch 316/500\n",
      "1600/1600 [==============================] - 1s 729us/step - loss: 0.3278 - accuracy: 0.8646\n",
      "Epoch 317/500\n",
      "1600/1600 [==============================] - 1s 726us/step - loss: 0.3283 - accuracy: 0.8655\n",
      "Epoch 318/500\n",
      "1600/1600 [==============================] - 1s 736us/step - loss: 0.3285 - accuracy: 0.8665\n",
      "Epoch 319/500\n",
      "1600/1600 [==============================] - 1s 836us/step - loss: 0.3276 - accuracy: 0.8673\n",
      "Epoch 320/500\n",
      "1600/1600 [==============================] - 1s 785us/step - loss: 0.3284 - accuracy: 0.8670\n",
      "Epoch 321/500\n",
      "1600/1600 [==============================] - 1s 816us/step - loss: 0.3275 - accuracy: 0.8649\n",
      "Epoch 322/500\n",
      "1600/1600 [==============================] - 1s 714us/step - loss: 0.3288 - accuracy: 0.8659\n",
      "Epoch 323/500\n",
      "1600/1600 [==============================] - 1s 732us/step - loss: 0.3273 - accuracy: 0.8675\n",
      "Epoch 324/500\n",
      "1600/1600 [==============================] - 1s 732us/step - loss: 0.3282 - accuracy: 0.8679\n",
      "Epoch 325/500\n",
      "1600/1600 [==============================] - 1s 717us/step - loss: 0.3281 - accuracy: 0.8652\n",
      "Epoch 326/500\n",
      "1600/1600 [==============================] - 1s 736us/step - loss: 0.3280 - accuracy: 0.8674\n",
      "Epoch 327/500\n",
      "1600/1600 [==============================] - 1s 724us/step - loss: 0.3287 - accuracy: 0.8670\n",
      "Epoch 328/500\n",
      "1600/1600 [==============================] - 1s 718us/step - loss: 0.3276 - accuracy: 0.8684\n",
      "Epoch 329/500\n",
      "1600/1600 [==============================] - 1s 747us/step - loss: 0.3283 - accuracy: 0.8669\n",
      "Epoch 330/500\n",
      "1600/1600 [==============================] - 1s 744us/step - loss: 0.3283 - accuracy: 0.8669\n",
      "Epoch 331/500\n",
      "1600/1600 [==============================] - 1s 741us/step - loss: 0.3278 - accuracy: 0.8660\n",
      "Epoch 332/500\n",
      "1600/1600 [==============================] - 1s 721us/step - loss: 0.3276 - accuracy: 0.8665\n",
      "Epoch 333/500\n",
      "1600/1600 [==============================] - 1s 743us/step - loss: 0.3279 - accuracy: 0.8676\n",
      "Epoch 334/500\n",
      "1600/1600 [==============================] - 1s 735us/step - loss: 0.3283 - accuracy: 0.8675\n",
      "Epoch 335/500\n",
      "1600/1600 [==============================] - 1s 724us/step - loss: 0.3282 - accuracy: 0.8665\n",
      "Epoch 336/500\n",
      "1600/1600 [==============================] - 1s 726us/step - loss: 0.3283 - accuracy: 0.8675\n",
      "Epoch 337/500\n",
      " 137/1600 [=>............................] - ETA: 1s - loss: 0.3406 - accuracy: 0.8701"
     ]
    }
   ],
   "source": [
    "ann.fit(X_train, y_train, batch_size = 5, epochs = 500)"
   ]
  },
  {
   "cell_type": "markdown",
   "metadata": {
    "colab_type": "text",
    "id": "tJj5k2MxZga3"
   },
   "source": [
    "## Part 4 - Making the predictions and evaluating the model"
   ]
  },
  {
   "cell_type": "markdown",
   "metadata": {
    "colab_type": "text",
    "id": "84QFoqGYeXHL"
   },
   "source": [
    "### Predicting the result of a single observation"
   ]
  },
  {
   "cell_type": "markdown",
   "metadata": {
    "colab_type": "text",
    "id": "CGRo3eacgDdC"
   },
   "source": [
    "**Homework**\n",
    "\n",
    "Use our ANN model to predict if the customer with the following informations will leave the bank: \n",
    "\n",
    "Geography: France\n",
    "\n",
    "Credit Score: 600\n",
    "\n",
    "Gender: Male\n",
    "\n",
    "Age: 40 years old\n",
    "\n",
    "Tenure: 3 years\n",
    "\n",
    "Balance: \\$ 60000\n",
    "\n",
    "Number of Products: 2\n",
    "\n",
    "Does this customer have a credit card ? Yes\n",
    "\n",
    "Is this customer an Active Member: Yes\n",
    "\n",
    "Estimated Salary: \\$ 50000\n",
    "\n",
    "So, should we say goodbye to that customer ?"
   ]
  },
  {
   "cell_type": "markdown",
   "metadata": {
    "colab_type": "text",
    "id": "ZhU1LTgPg-kH"
   },
   "source": [
    "**Solution**"
   ]
  },
  {
   "cell_type": "code",
   "execution_count": 25,
   "metadata": {
    "colab": {
     "base_uri": "https://localhost:8080/",
     "height": 34
    },
    "colab_type": "code",
    "id": "2d8IoCCkeWGL",
    "outputId": "957f3970-e197-4c3b-a150-7f69dc567f5d"
   },
   "outputs": [
    {
     "name": "stdout",
     "output_type": "stream",
     "text": [
      "[[False]]\n"
     ]
    }
   ],
   "source": [
    "print(ann.predict(sc.transform([[1, 0, 0, 600, 1, 40, 3, 60000, 2, 1, 1, 50000]])) > 0.5)"
   ]
  },
  {
   "cell_type": "markdown",
   "metadata": {
    "colab_type": "text",
    "id": "wGjx94g2n7OV"
   },
   "source": [
    "Therefore, our ANN model predicts that this customer stays in the bank!\n",
    "\n",
    "**Important note 1:** Notice that the values of the features were all input in a double pair of square brackets. That's because the \"predict\" method always expects a 2D array as the format of its inputs. And putting our values into a double pair of square brackets makes the input exactly a 2D array.\n",
    "\n",
    "**Important note 2:** Notice also that the \"France\" country was not input as a string in the last column but as \"1, 0, 0\" in the first three columns. That's because of course the predict method expects the one-hot-encoded values of the state, and as we see in the first row of the matrix of features X, \"France\" was encoded as \"1, 0, 0\". And be careful to include these values in the first three columns, because the dummy variables are always created in the first columns."
   ]
  },
  {
   "cell_type": "markdown",
   "metadata": {
    "colab_type": "text",
    "id": "u7yx47jPZt11"
   },
   "source": [
    "### Predicting the Test set results"
   ]
  },
  {
   "cell_type": "code",
   "execution_count": 26,
   "metadata": {
    "colab": {
     "base_uri": "https://localhost:8080/",
     "height": 137
    },
    "colab_type": "code",
    "id": "nIyEeQdRZwgs",
    "outputId": "82330ba8-9bdc-4fd1-d3cf-b6d78ee7c2a3"
   },
   "outputs": [
    {
     "name": "stdout",
     "output_type": "stream",
     "text": [
      "[[0 0]\n",
      " [0 1]\n",
      " [0 0]\n",
      " ...\n",
      " [0 0]\n",
      " [0 0]\n",
      " [0 0]]\n"
     ]
    }
   ],
   "source": [
    "y_pred = ann.predict(X_test)\n",
    "y_pred = (y_pred > 0.5)\n",
    "print(np.concatenate((y_pred.reshape(len(y_pred),1), y_test.reshape(len(y_test),1)),1))"
   ]
  },
  {
   "cell_type": "markdown",
   "metadata": {
    "colab_type": "text",
    "id": "o0oyfLWoaEGw"
   },
   "source": [
    "### Making the Confusion Matrix"
   ]
  },
  {
   "cell_type": "code",
   "execution_count": 27,
   "metadata": {
    "colab": {
     "base_uri": "https://localhost:8080/",
     "height": 68
    },
    "colab_type": "code",
    "id": "ci6K_r6LaF6P",
    "outputId": "4d854e9e-22d5-432f-f6e5-a102fe3ae0bd"
   },
   "outputs": [
    {
     "name": "stdout",
     "output_type": "stream",
     "text": [
      "[[1511   84]\n",
      " [ 200  205]]\n"
     ]
    },
    {
     "data": {
      "text/plain": [
       "0.858"
      ]
     },
     "execution_count": 27,
     "metadata": {},
     "output_type": "execute_result"
    }
   ],
   "source": [
    "from sklearn.metrics import confusion_matrix, accuracy_score\n",
    "cm = confusion_matrix(y_test, y_pred)\n",
    "print(cm)\n",
    "accuracy_score(y_test, y_pred)"
   ]
  },
  {
   "cell_type": "code",
   "execution_count": 30,
   "metadata": {},
   "outputs": [
    {
     "data": {
      "text/plain": [
       "0.858"
      ]
     },
     "execution_count": 30,
     "metadata": {},
     "output_type": "execute_result"
    }
   ],
   "source": [
    "(1511+205)/2000"
   ]
  },
  {
   "cell_type": "code",
   "execution_count": 29,
   "metadata": {},
   "outputs": [
    {
     "data": {
      "text/plain": [
       "2000"
      ]
     },
     "execution_count": 29,
     "metadata": {},
     "output_type": "execute_result"
    }
   ],
   "source": [
    "len(X_test)"
   ]
  }
 ],
 "metadata": {
  "colab": {
   "collapsed_sections": [],
   "name": "artificial_neural_network.ipynb",
   "provenance": [],
   "toc_visible": true
  },
  "kernelspec": {
   "display_name": "Python 3",
   "language": "python",
   "name": "python3"
  },
  "language_info": {
   "codemirror_mode": {
    "name": "ipython",
    "version": 3
   },
   "file_extension": ".py",
   "mimetype": "text/x-python",
   "name": "python",
   "nbconvert_exporter": "python",
   "pygments_lexer": "ipython3",
   "version": "3.8.3"
  }
 },
 "nbformat": 4,
 "nbformat_minor": 1
}
